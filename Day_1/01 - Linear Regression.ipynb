{
  "nbformat": 4,
  "nbformat_minor": 0,
  "metadata": {
    "accelerator": "GPU",
    "colab": {
      "name": "01 - Linear Regression.ipynb",
      "provenance": [],
      "collapsed_sections": [],
      "include_colab_link": true
    },
    "kernelspec": {
      "name": "python3",
      "display_name": "Python 3"
    },
    "language_info": {
      "codemirror_mode": {
        "name": "ipython",
        "version": 3
      },
      "file_extension": ".py",
      "mimetype": "text/x-python",
      "name": "python",
      "nbconvert_exporter": "python",
      "pygments_lexer": "ipython3",
      "version": "3.7.3"
    }
  },
  "cells": [
    {
      "cell_type": "markdown",
      "metadata": {
        "id": "view-in-github",
        "colab_type": "text"
      },
      "source": [
        "<a href=\"https://colab.research.google.com/github/visionNoob/Tensorflow_Tutorial/blob/master/Day_1/01%20-%20Linear%20Regression.ipynb\" target=\"_parent\"><img src=\"https://colab.research.google.com/assets/colab-badge.svg\" alt=\"Open In Colab\"/></a>"
      ]
    },
    {
      "cell_type": "markdown",
      "metadata": {
        "colab_type": "text",
        "id": "z8juHB30ID_y"
      },
      "source": [
        "# Linear Regression"
      ]
    },
    {
      "cell_type": "markdown",
      "metadata": {
        "colab_type": "text",
        "id": "8YN6sNhzIMM1"
      },
      "source": [
        "\n"
      ]
    },
    {
      "cell_type": "code",
      "metadata": {
        "colab_type": "code",
        "id": "fgFXOeQ3IGBv",
        "outputId": "e6e0a502-ec74-4291-d849-6a9da2124288",
        "colab": {
          "base_uri": "https://localhost:8080/",
          "height": 34
        }
      },
      "source": [
        "import tensorflow as tf\n",
        "import numpy as np\n",
        "import matplotlib.pyplot as plt\n",
        "\n",
        "tf.debugging.set_log_device_placement(True)\n",
        "tf.enable_eager_execution()\n",
        "tf.__version__"
      ],
      "execution_count": 1,
      "outputs": [
        {
          "output_type": "execute_result",
          "data": {
            "text/plain": [
              "'1.14.0'"
            ]
          },
          "metadata": {
            "tags": []
          },
          "execution_count": 1
        }
      ]
    },
    {
      "cell_type": "markdown",
      "metadata": {
        "colab_type": "text",
        "id": "6UTdIW-gJWwr"
      },
      "source": [
        "## Hypothesis\n",
        "\n",
        "* 우리가 세운 가설을 코드로 만들어봅시다.\n",
        "\n",
        "$$ H(x) = Wx + b $$\n",
        "\n",
        "* 예측해야되는 데이터는 주어집니다."
      ]
    },
    {
      "cell_type": "code",
      "metadata": {
        "colab_type": "code",
        "id": "R6EeL-OAJpKd",
        "outputId": "908cf19b-3990-45a2-818b-c7563d074b51",
        "colab": {
          "base_uri": "https://localhost:8080/",
          "height": 371
        }
      },
      "source": [
        "# 주어진 데이터를 확인해 봅시다.\n",
        "x_data = [1, 2, 3, 4, 5]\n",
        "y_data = [1, 2, 3, 4, 5]\n",
        "\n",
        "#이 데이터를 표현하는 모델을 정의해봅시다.\n",
        "\n",
        "W = tf.Variable(1.7) # 임의의 값\n",
        "b = tf.Variable(0.5) # 임의의 값\n",
        "\n",
        "# Hpyothesis 가설\n",
        "hypothesis = W * x_data + b\n",
        "\n",
        "# 표로 출력\n",
        "plt.plot(x_data, hypothesis.numpy())\n",
        "plt.plot(x_data, y_data, 'o')\n",
        "plt.show()"
      ],
      "execution_count": 2,
      "outputs": [
        {
          "output_type": "stream",
          "text": [
            "Executing op VarHandleOp in device /job:localhost/replica:0/task:0/device:GPU:0\n",
            "Executing op VarIsInitializedOp in device /job:localhost/replica:0/task:0/device:GPU:0\n",
            "Executing op AssignVariableOp in device /job:localhost/replica:0/task:0/device:GPU:0\n",
            "Executing op ReadVariableOp in device /job:localhost/replica:0/task:0/device:GPU:0\n",
            "Executing op Mul in device /job:localhost/replica:0/task:0/device:GPU:0\n",
            "Executing op Add in device /job:localhost/replica:0/task:0/device:GPU:0\n"
          ],
          "name": "stdout"
        },
        {
          "output_type": "display_data",
          "data": {
            "image/png": "[encoded data removed]",
            "text/plain": [
              "<Figure size 432x288 with 1 Axes>"
            ]
          },
          "metadata": {
            "tags": []
          }
        }
      ]
    },
    {
      "cell_type": "code",
      "metadata": {
        "id": "PRgEsbu4GXrk",
        "colab_type": "code",
        "outputId": "293cde48-047c-4faf-ea33-af35e0568a20",
        "colab": {
          "base_uri": "https://localhost:8080/",
          "height": 102
        }
      },
      "source": [
        "# 텐서 생성\n",
        "tf.debugging.set_log_device_placement(True)\n",
        "a = tf.constant([[1.0, 2.0, 3.0], [4.0, 5.0, 6.0]])\n",
        "b = tf.constant([[1.0, 2.0], [3.0, 4.0], [5.0, 6.0]])\n",
        "c = tf.matmul(a, b)\n",
        "\n",
        "print(c)"
      ],
      "execution_count": 3,
      "outputs": [
        {
          "output_type": "stream",
          "text": [
            "Executing op DestroyResourceOp in device /job:localhost/replica:0/task:0/device:GPU:0\n",
            "Executing op MatMul in device /job:localhost/replica:0/task:0/device:GPU:0\n",
            "tf.Tensor(\n",
            "[[22. 28.]\n",
            " [49. 64.]], shape=(2, 2), dtype=float32)\n"
          ],
          "name": "stdout"
        }
      ]
    },
    {
      "cell_type": "markdown",
      "metadata": {
        "colab_type": "text",
        "id": "olIAgNvrJ1WO"
      },
      "source": [
        "## Cost\n",
        "$$ cost(W)=\\frac { 1 }{ m } \\sum _{i=1}^{m}{ { ({ H(x_{ i }) }-y_{ i } })^{ 2 } }  $$"
      ]
    },
    {
      "cell_type": "code",
      "metadata": {
        "colab_type": "code",
        "id": "31iigy8iLqcO",
        "colab": {
          "base_uri": "https://localhost:8080/",
          "height": 102
        },
        "outputId": "5ffbc61a-8f99-4d9d-c221-b08d7e668888"
      },
      "source": [
        "# Cost function == Loss Function\n",
        "cost = tf.reduce_mean(tf.square(hypothesis - y_data))\n",
        "\n",
        "sq = tf.square(3) # 제곱을 해주는 함수\n",
        "print(sq)\n"
      ],
      "execution_count": 4,
      "outputs": [
        {
          "output_type": "stream",
          "text": [
            "Executing op Sub in device /job:localhost/replica:0/task:0/device:GPU:0\n",
            "Executing op Square in device /job:localhost/replica:0/task:0/device:GPU:0\n",
            "Executing op Mean in device /job:localhost/replica:0/task:0/device:GPU:0\n",
            "Executing op Square in device /job:localhost/replica:0/task:0/device:GPU:0\n",
            "tf.Tensor(9, shape=(), dtype=int32)\n"
          ],
          "name": "stdout"
        }
      ]
    },
    {
      "cell_type": "markdown",
      "metadata": {
        "colab_type": "text",
        "id": "MhRaJ2h965WJ"
      },
      "source": [
        "# Cost Function을 조금 더 쉽게 표현해봅시다.\n",
        "## Simplifed hypothesis\n",
        "\n",
        "$$ H(x) = Wx $$ \n",
        "\n",
        "$$ cost(W)=\\frac { 1 }{ m } \\sum _{i=1}^{m}{ { ({ H(x_{ i }) }-y_{ i } })^{ 2 } }  $$\n",
        "\n",
        "* b 를 W 행렬에 포함 시킬 수 있기 때문에 생략이 가능하다\n",
        "* Cost 함수를 정의해보자\n",
        "\n",
        "* 차원을 축소시켜서 생각해 볼 수 있다.\n"
      ]
    },
    {
      "cell_type": "code",
      "metadata": {
        "colab_type": "code",
        "id": "ew3Jx4nX7FKZ",
        "colab": {}
      },
      "source": [
        "def cost_func(W, X, Y):\n",
        "  hypothesis = X * W\n",
        "  return tf.reduce_mean(tf.square(hypothesis - Y))"
      ],
      "execution_count": 0,
      "outputs": []
    },
    {
      "cell_type": "markdown",
      "metadata": {
        "colab_type": "text",
        "id": "bddR0hao7NJN"
      },
      "source": [
        "## 우리가 가정한 Cost Funtion을 살펴보자\n",
        "\n",
        "$$ cost(W)=\\frac { 1 }{ m } \\sum _{i=1}^{m}{ { ({ H(x_{ i }) }-y_{ i } })^{ 2 } }  $$\n",
        "\n",
        "W = -1, cost(W) = 18.67\n",
        "$$ cost(W)=\\frac { 1 }{ 3 } ( (-1 * 1 - 1)^2 + (-1 * 2 - 2)^2 + (-1 * 3 - 3)^2) $$\n",
        "\n",
        "W = 0, cost(W) = 4.67\n",
        "$$ cost(W)=\\frac { 1 }{ 3 } ( (0 * 1 - 1)^2 + (0 * 2 - 2)^2 + (0 * 3 - 3)^2) $$\n",
        "\n",
        "W = 1, cost(W) = 0\n",
        "$$ cost(W)=\\frac { 1 }{ 3 } ( (1 * 1 - 1)^2 + (1 * 2 - 2)^2 + (1 * 3 - 3)^2) $$\n",
        "\n",
        "W = 2, cost(W) = 4.67\n",
        "$$ cost(W)=\\frac { 1 }{ 3 } ( (2 * 1 - 1)^2 + (2 * 2 - 2)^2 + (2 * 3 - 3)^2) $$\n"
      ]
    },
    {
      "cell_type": "code",
      "metadata": {
        "colab_type": "code",
        "id": "DcbA7CkYH5IW",
        "scrolled": false,
        "colab": {
          "base_uri": "https://localhost:8080/",
          "height": 572
        },
        "outputId": "81a8fa3d-4196-47d3-d2e6-69fdfb0d9512"
      },
      "source": [
        "X = np.array([1, 2, 3])\n",
        "Y = np.array([1, 2, 3])\n",
        "\n",
        "W_values = np.linspace(-3, 5, num=15) # -3 ~ 5 사이의 15개 숫자들 - 15등분\n",
        "cost_values = []\n",
        "\n",
        "for feed_W in W_values:\n",
        "    curr_cost = cost_func(feed_W, X, Y)\n",
        "    cost_values.append(curr_cost)\n",
        "    print(\"{:6.3f} | {:10.5f}\".format(feed_W, curr_cost))\n",
        "    \n",
        "# Cost Function을 시각화 해보자    \n",
        "    \n",
        "plt.plot(W_values, cost_values, \"b\")\n",
        "plt.ylabel('Cost(W)')\n",
        "plt.xlabel('W')\n",
        "plt.grid(True)\n",
        "plt.show()"
      ],
      "execution_count": 6,
      "outputs": [
        {
          "output_type": "stream",
          "text": [
            "Executing op Square in device /job:localhost/replica:0/task:0/device:GPU:0\n",
            "Executing op Mean in device /job:localhost/replica:0/task:0/device:GPU:0\n",
            "-3.000 |   74.66667\n",
            "-2.429 |   54.85714\n",
            "-1.857 |   38.09524\n",
            "-1.286 |   24.38095\n",
            "-0.714 |   13.71429\n",
            "-0.143 |    6.09524\n",
            " 0.429 |    1.52381\n",
            " 1.000 |    0.00000\n",
            " 1.571 |    1.52381\n",
            " 2.143 |    6.09524\n",
            " 2.714 |   13.71429\n",
            " 3.286 |   24.38095\n",
            " 3.857 |   38.09524\n",
            " 4.429 |   54.85714\n",
            " 5.000 |   74.66667\n"
          ],
          "name": "stdout"
        },
        {
          "output_type": "display_data",
          "data": {
            "image/png": "[encoded data removed]",
            "text/plain": [
              "<Figure size 432x288 with 1 Axes>"
            ]
          },
          "metadata": {
            "tags": []
          }
        }
      ]
    },
    {
      "cell_type": "markdown",
      "metadata": {
        "colab_type": "text",
        "id": "3J0IwKqtJJGS"
      },
      "source": [
        "# Cost Function을 이용해서 최적 값은 어떻게 찾는것일까?\n",
        "\n",
        "## Minimizing Cost == Gradient descent\n",
        "\n",
        "$$ cost(W)=\\frac { 1 }{ 2m } \\sum _{i=1}^{m}{ { ({ H(x_{ i }) }-y_{ i } })^{ 2 } }  $$\n",
        "\n",
        "$$ W:=W-\\alpha \\frac { 1 }{ m } \\sum _{i=1}^{m}{ { ({ H(x_{ i }) }-y_{ i } })^{ 2 } }  $$\n",
        "\n",
        "$$ \\alpha = Learning Rate $$"
      ]
    },
    {
      "cell_type": "code",
      "metadata": {
        "colab_type": "code",
        "id": "4HaRA3N1JMvA",
        "colab": {
          "base_uri": "https://localhost:8080/",
          "height": 544
        },
        "outputId": "67a22d10-c4e7-44cf-f812-bdaeb4669c6c"
      },
      "source": [
        "W = tf.Variable([4.1]) # 임의의 값\n",
        "\n",
        "for step in range(300):\n",
        "    hypothesis = W * X\n",
        "    cost = tf.reduce_mean(tf.square(hypothesis - Y))\n",
        "\n",
        "    # Gradient Descent의 동작 원리\n",
        "    lr = 0.01\n",
        "    gradient = tf.reduce_mean(tf.multiply(tf.multiply(W, X) - Y, X))\n",
        "    descent = W - tf.multiply(lr, gradient)\n",
        "    W.assign(descent)\n",
        "    \n",
        "    if step % 10 == 0:\n",
        "        print(\"step : {:3}, cost :  {:5.4f}, W : {:5.6f}\".format(step, cost.numpy(), W.numpy()[0]))\n",
        "        "
      ],
      "execution_count": 7,
      "outputs": [
        {
          "output_type": "stream",
          "text": [
            "Executing op VarHandleOp in device /job:localhost/replica:0/task:0/device:GPU:0\n",
            "step :   0, cost :  44.8467, W : 3.955333\n",
            "step :  10, cost :  17.2435, W : 2.832543\n",
            "step :  20, cost :  6.6301, W : 2.136324\n",
            "step :  30, cost :  2.5493, W : 1.704612\n",
            "step :  40, cost :  0.9802, W : 1.436916\n",
            "step :  50, cost :  0.3769, W : 1.270923\n",
            "step :  60, cost :  0.1449, W : 1.167994\n",
            "step :  70, cost :  0.0557, W : 1.104170\n",
            "step :  80, cost :  0.0214, W : 1.064594\n",
            "step :  90, cost :  0.0082, W : 1.040053\n",
            "step : 100, cost :  0.0032, W : 1.024836\n",
            "step : 110, cost :  0.0012, W : 1.015400\n",
            "step : 120, cost :  0.0005, W : 1.009549\n",
            "step : 130, cost :  0.0002, W : 1.005921\n",
            "step : 140, cost :  0.0001, W : 1.003672\n",
            "step : 150, cost :  0.0000, W : 1.002277\n",
            "step : 160, cost :  0.0000, W : 1.001412\n",
            "step : 170, cost :  0.0000, W : 1.000875\n",
            "step : 180, cost :  0.0000, W : 1.000543\n",
            "step : 190, cost :  0.0000, W : 1.000337\n",
            "step : 200, cost :  0.0000, W : 1.000208\n",
            "step : 210, cost :  0.0000, W : 1.000129\n",
            "step : 220, cost :  0.0000, W : 1.000080\n",
            "step : 230, cost :  0.0000, W : 1.000050\n",
            "step : 240, cost :  0.0000, W : 1.000031\n",
            "step : 250, cost :  0.0000, W : 1.000019\n",
            "step : 260, cost :  0.0000, W : 1.000012\n",
            "step : 270, cost :  0.0000, W : 1.000008\n",
            "step : 280, cost :  0.0000, W : 1.000005\n",
            "step : 290, cost :  0.0000, W : 1.000003\n"
          ],
          "name": "stdout"
        }
      ]
    },
    {
      "cell_type": "markdown",
      "metadata": {
        "colab_type": "text",
        "id": "YXaVsxPGDTdP"
      },
      "source": [
        "# 다시 돌아와서 가설과 Cost Function을 이용해 계산해봅시다.\n",
        "## GradientTape()\n",
        "* 위에서는 직접 가중치의 업데이트를 진행\n",
        "* TF에서 지원하는 함수로 업데이트할 가중치를 계산해 주는 역할\n",
        "* Cost 함수와 예측 값으로 가중치를 얼마나 업데이트할지 결정해준다."
      ]
    },
    {
      "cell_type": "code",
      "metadata": {
        "colab_type": "code",
        "id": "Q0Ka_VnULyZ2",
        "colab": {
          "base_uri": "https://localhost:8080/",
          "height": 153
        },
        "outputId": "22ca7bf7-be94-49b6-d09d-48279ada1108"
      },
      "source": [
        "W = tf.Variable(1.7) # 임의의 값\n",
        "b = tf.Variable(0.5) # 임의의 값\n",
        "\n",
        "with tf.GradientTape() as tape:\n",
        "  hypothesis = W * x_data + b\n",
        "  cost = tf.reduce_mean(tf.square(hypothesis - y_data))\n",
        "  \n",
        "W_grad, b_grad = tape.gradient(cost, [W, b])\n",
        "\n",
        "print(W_grad, b_grad)\n"
      ],
      "execution_count": 8,
      "outputs": [
        {
          "output_type": "stream",
          "text": [
            "Executing op Reshape in device /job:localhost/replica:0/task:0/device:GPU:0\n",
            "Executing op Tile in device /job:localhost/replica:0/task:0/device:GPU:0\n",
            "Executing op RealDiv in device /job:localhost/replica:0/task:0/device:GPU:0\n",
            "Executing op Neg in device /job:localhost/replica:0/task:0/device:GPU:0\n",
            "Executing op Shape in device /job:localhost/replica:0/task:0/device:GPU:0\n",
            "Executing op BroadcastGradientArgs in device /job:localhost/replica:0/task:0/device:GPU:0\n",
            "Executing op Sum in device /job:localhost/replica:0/task:0/device:GPU:0\n",
            "tf.Tensor(18.400002, shape=(), dtype=float32) tf.Tensor(5.2000003, shape=(), dtype=float32)\n"
          ],
          "name": "stdout"
        }
      ]
    },
    {
      "cell_type": "markdown",
      "metadata": {
        "colab_type": "text",
        "id": "WoIf_xhLN77Q"
      },
      "source": [
        "## assign_sub()\n",
        "\n",
        "* A = A - B\n",
        "* A -= B\n",
        "* 위의 계산을 해주는 함수\n",
        "\n",
        "* 가중치 값을 업데이트"
      ]
    },
    {
      "cell_type": "code",
      "metadata": {
        "colab_type": "code",
        "id": "-ZeGq578MItm",
        "colab": {
          "base_uri": "https://localhost:8080/",
          "height": 51
        },
        "outputId": "ca01e38a-ce6b-4291-8f6d-f510e359936d"
      },
      "source": [
        "learning_rate = 0.01\n",
        "\n",
        "W.assign_sub(learning_rate * W_grad)\n",
        "b.assign_sub(learning_rate * b_grad)\n",
        "\n",
        "W.numpy(), b.numpy()"
      ],
      "execution_count": 9,
      "outputs": [
        {
          "output_type": "stream",
          "text": [
            "Executing op AssignSubVariableOp in device /job:localhost/replica:0/task:0/device:GPU:0\n"
          ],
          "name": "stdout"
        },
        {
          "output_type": "execute_result",
          "data": {
            "text/plain": [
              "(1.516, 0.448)"
            ]
          },
          "metadata": {
            "tags": []
          },
          "execution_count": 9
        }
      ]
    },
    {
      "cell_type": "markdown",
      "metadata": {
        "colab_type": "text",
        "id": "pwJH_SysN4LP"
      },
      "source": [
        "### 여러번 돌려봅시다."
      ]
    },
    {
      "cell_type": "code",
      "metadata": {
        "colab_type": "code",
        "id": "Fxj6pWjFOrkP",
        "colab": {
          "base_uri": "https://localhost:8080/",
          "height": 439
        },
        "outputId": "c69e5dfd-bf68-4f12-c327-57566573d6eb"
      },
      "source": [
        "for i in range(100):\n",
        "    with tf.GradientTape() as tape:\n",
        "        #가설 설정\n",
        "        hypothesis = W * x_data + b\n",
        "        # Cost 함수 설정\n",
        "        cost = tf.reduce_mean(tf.square(hypothesis - y_data))\n",
        "        \n",
        "    W_grad, b_grad = tape.gradient(cost, [W, b]) # gradient 계산\n",
        "    \n",
        "    learning_rate = 0.01\n",
        "    # 가중치 업데이트\n",
        "    W.assign_sub(learning_rate * W_grad)\n",
        "    b.assign_sub(learning_rate * b_grad)\n",
        "    \n",
        "    if i % 10 == 0:\n",
        "      print(\"{:5}|{:10.4f}|{:10.4f}|{:10.6f}\".format(i, W.numpy(), b.numpy(), cost))\n",
        "\n",
        "plt.plot(x_data, y_data, 'o')\n",
        "plt.plot(x_data, hypothesis.numpy(), 'r-')\n",
        "plt.show()\n"
      ],
      "execution_count": 10,
      "outputs": [
        {
          "output_type": "stream",
          "text": [
            "    0|    1.3756|    0.4081|  4.516528\n",
            "   10|    0.9549|    0.2814|  0.033990\n",
            "   20|    0.9290|    0.2645|  0.012853\n",
            "   30|    0.9295|    0.2551|  0.011926\n",
            "   40|    0.9317|    0.2466|  0.011144\n",
            "   50|    0.9340|    0.2384|  0.010415\n",
            "   60|    0.9362|    0.2305|  0.009733\n",
            "   70|    0.9383|    0.2228|  0.009095\n",
            "   80|    0.9403|    0.2154|  0.008500\n",
            "   90|    0.9423|    0.2082|  0.007943\n"
          ],
          "name": "stdout"
        },
        {
          "output_type": "display_data",
          "data": {
            "image/png": "[encoded data removed]",
            "text/plain": [
              "<Figure size 432x288 with 1 Axes>"
            ]
          },
          "metadata": {
            "tags": []
          }
        }
      ]
    }
  ]
}