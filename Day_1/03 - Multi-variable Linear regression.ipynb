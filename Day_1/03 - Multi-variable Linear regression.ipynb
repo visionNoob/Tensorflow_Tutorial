{
  "nbformat": 4,
  "nbformat_minor": 0,
  "metadata": {
    "colab": {
      "name": "03 - Multi-variable Linear regression.ipynb",
      "provenance": [],
      "collapsed_sections": [],
      "include_colab_link": true
    },
    "kernelspec": {
      "display_name": "Python 3",
      "language": "python",
      "name": "python3"
    },
    "language_info": {
      "codemirror_mode": {
        "name": "ipython",
        "version": 3
      },
      "file_extension": ".py",
      "mimetype": "text/x-python",
      "name": "python",
      "nbconvert_exporter": "python",
      "pygments_lexer": "ipython3",
      "version": "3.7.3"
    }
  },
  "cells": [
    {
      "cell_type": "markdown",
      "metadata": {
        "id": "view-in-github",
        "colab_type": "text"
      },
      "source": [
        "<a href=\"https://colab.research.google.com/github/visionNoob/Tensorflow_Tutorial/blob/master/Day_1/03%20-%20Multi-variable%20Linear%20regression.ipynb\" target=\"_parent\"><img src=\"https://colab.research.google.com/assets/colab-badge.svg\" alt=\"Open In Colab\"/></a>"
      ]
    },
    {
      "cell_type": "markdown",
      "metadata": {
        "colab_type": "text",
        "id": "BVZB_zoM_Z1U"
      },
      "source": [
        "# Multi-variable Linear Regression"
      ]
    },
    {
      "cell_type": "code",
      "metadata": {
        "colab_type": "code",
        "id": "KXvTsOe5_F-D",
        "colab": {
          "base_uri": "https://localhost:8080/",
          "height": 34
        },
        "outputId": "893cd929-203c-4337-e415-7368b1bd4585"
      },
      "source": [
        "import tensorflow as tf\n",
        "import numpy as np\n",
        "import matplotlib.pyplot as plt\n",
        "\n",
        "tf.debugging.set_log_device_placement(True)\n",
        "tf.enable_eager_execution()\n",
        "tf.__version__"
      ],
      "execution_count": 1,
      "outputs": [
        {
          "output_type": "execute_result",
          "data": {
            "text/plain": [
              "'1.14.0'"
            ]
          },
          "metadata": {
            "tags": []
          },
          "execution_count": 1
        }
      ]
    },
    {
      "cell_type": "markdown",
      "metadata": {
        "colab_type": "text",
        "id": "WHoDSv4Ak_dq"
      },
      "source": [
        "# Hypothesis\n",
        "\n",
        "## $$ H(x_1, x_2, x_3) = \\underline{w_1 x_1 + w_2 x_2 + w_3 x_3} + b $$\n",
        "\n",
        "## $$ = w_1 x_1 + w_2 x_2 + w_3 x_3 $$ \n",
        "\n",
        "## $$ =  \\begin{pmatrix} w_{ 1 } & w_{ 2 } & w_{ 3 } \\end{pmatrix}\\cdot \\begin{pmatrix} x_{ 1 } \\\\ x_{ 2 } \\\\ x_{ 3 } \\end{pmatrix} $$\n",
        "\n",
        "## $$ H(x_1, x_2, x_3) = WX $$ \n",
        "\n"
      ]
    },
    {
      "cell_type": "code",
      "metadata": {
        "colab_type": "code",
        "id": "TD3r1EQgwMNt",
        "colab": {
          "base_uri": "https://localhost:8080/",
          "height": 561
        },
        "outputId": "56411980-aba7-4a70-b347-7240b9b89ba9"
      },
      "source": [
        "x_data = [\n",
        "    [1., 0., 3., 0., 5.],\n",
        "    [0., 2., 0., 4., 0.]\n",
        "]\n",
        "y_data  = [1, 2, 3, 4, 5]\n",
        "\n",
        "W = tf.Variable(tf.random_normal([1, 2], -1.0, 1.0))\n",
        "b = tf.Variable(tf.random_normal([1], -1.0, 1.0))\n",
        "\n",
        "learning_rate = tf.Variable(0.001)\n",
        "\n",
        "for i in range(100):\n",
        "   with tf.GradientTape() as tape:\n",
        "    hypothesis = tf.matmul(W, x_data) + b # (1, 2) * (2, 5) = (1, 5)\n",
        "    cost = tf.reduce_mean(tf.square(hypothesis - y_data))\n",
        "\n",
        "    W_grad, b_grad = tape.gradient(cost, [W, b])\n",
        "    W.assign_sub(learning_rate * W_grad)\n",
        "    b.assign_sub(learning_rate * b_grad)\n",
        "    \n",
        "    if i % 10 == 0:\n",
        "        print(\"step: {:3} \\t cost: {:5.4f} \\t w[0][0]: {:5.4f} \\t w[0][1]: {:5.4f} \\t b: {:5.4f}\".format(\n",
        "            i, cost.numpy(), W.numpy()[0][0], W.numpy()[0][1], b.numpy()[0]))"
      ],
      "execution_count": 2,
      "outputs": [
        {
          "output_type": "stream",
          "text": [
            "Executing op RandomStandardNormal in device /job:localhost/replica:0/task:0/device:CPU:0\n",
            "Executing op Mul in device /job:localhost/replica:0/task:0/device:CPU:0\n",
            "Executing op Add in device /job:localhost/replica:0/task:0/device:CPU:0\n",
            "Executing op VarHandleOp in device /job:localhost/replica:0/task:0/device:CPU:0\n",
            "Executing op VarIsInitializedOp in device /job:localhost/replica:0/task:0/device:CPU:0\n",
            "Executing op AssignVariableOp in device /job:localhost/replica:0/task:0/device:CPU:0\n",
            "Executing op VarHandleOp in device /job:localhost/replica:0/task:0/device:CPU:0\n",
            "Executing op VarHandleOp in device /job:localhost/replica:0/task:0/device:CPU:0\n",
            "Executing op ReadVariableOp in device /job:localhost/replica:0/task:0/device:CPU:0\n",
            "Executing op MatMul in device /job:localhost/replica:0/task:0/device:CPU:0\n",
            "Executing op Sub in device /job:localhost/replica:0/task:0/device:CPU:0\n",
            "Executing op Square in device /job:localhost/replica:0/task:0/device:CPU:0\n",
            "Executing op Mean in device /job:localhost/replica:0/task:0/device:CPU:0\n",
            "Executing op Reshape in device /job:localhost/replica:0/task:0/device:CPU:0\n",
            "Executing op Tile in device /job:localhost/replica:0/task:0/device:CPU:0\n",
            "Executing op RealDiv in device /job:localhost/replica:0/task:0/device:CPU:0\n",
            "Executing op Shape in device /job:localhost/replica:0/task:0/device:CPU:0\n",
            "Executing op BroadcastGradientArgs in device /job:localhost/replica:0/task:0/device:CPU:0\n",
            "Executing op Sum in device /job:localhost/replica:0/task:0/device:CPU:0\n",
            "Executing op Neg in device /job:localhost/replica:0/task:0/device:CPU:0\n",
            "Executing op MatMul in device /job:localhost/replica:0/task:0/device:CPU:0\n",
            "Executing op AssignSubVariableOp in device /job:localhost/replica:0/task:0/device:CPU:0\n",
            "step:   0 \t cost: 110.7524 \t w[0][0]: -1.9586 \t w[0][1]: -1.3513 \t b: -1.3751\n",
            "step:  10 \t cost: 83.7231 \t w[0][0]: -1.5259 \t w[0][1]: -1.1399 \t b: -1.1958\n",
            "step:  20 \t cost: 63.4565 \t w[0][0]: -1.1558 \t w[0][1]: -0.9488 \t b: -1.0393\n",
            "step:  30 \t cost: 48.2323 \t w[0][0]: -0.8394 \t w[0][1]: -0.7758 \t b: -0.9026\n",
            "step:  40 \t cost: 36.7724 \t w[0][0]: -0.5689 \t w[0][1]: -0.6191 \t b: -0.7830\n",
            "step:  50 \t cost: 28.1267 \t w[0][0]: -0.3378 \t w[0][1]: -0.4772 \t b: -0.6784\n",
            "step:  60 \t cost: 21.5881 \t w[0][0]: -0.1404 \t w[0][1]: -0.3484 \t b: -0.5868\n",
            "step:  70 \t cost: 16.6298 \t w[0][0]: 0.0281 \t w[0][1]: -0.2316 \t b: -0.5065\n",
            "step:  80 \t cost: 12.8592 \t w[0][0]: 0.1719 \t w[0][1]: -0.1256 \t b: -0.4360\n",
            "step:  90 \t cost: 9.9829 \t w[0][0]: 0.2946 \t w[0][1]: -0.0293 \t b: -0.3741\n"
          ],
          "name": "stdout"
        }
      ]
    },
    {
      "cell_type": "markdown",
      "metadata": {
        "colab_type": "text",
        "id": "NZexW_VyEtRF"
      },
      "source": [
        "## Test Score\n",
        "\n",
        "\n",
        "x1 | x2 | x3 | Y\n",
        "---- | ---- | ----| ----\n",
        "96 | 91 | 99 | 194\n",
        "88 | 85 | 82 | 181\n",
        "78 | 77 | 73 | 177\n",
        "67 | 66 | 61 | 164\n",
        "55 | 51 | 53 | 157"
      ]
    },
    {
      "cell_type": "markdown",
      "metadata": {
        "colab_type": "text",
        "id": "U7rpBMwr2HSn"
      },
      "source": [
        "# Hypothesis using matrix\n",
        "\n",
        "$$ [5, 3] \\cdot [?, ?] = [5, 1] $$\n",
        "\n",
        "$$ H(X) = XW + b $$\n"
      ]
    },
    {
      "cell_type": "code",
      "metadata": {
        "colab_type": "code",
        "id": "QyU-dlcXEP2G",
        "colab": {
          "base_uri": "https://localhost:8080/",
          "height": 255
        },
        "outputId": "396dc8ed-232c-402a-e05a-97b6647857e9"
      },
      "source": [
        "data = np.array([\n",
        "    # X1,   X2,    X3,   y\n",
        "    [ 96.,  91.,  99., 194. ],\n",
        "    [ 88.,  85.,  82., 181. ],\n",
        "    [ 78.,  77.,  73., 177. ],\n",
        "    [ 67.,  66., 61., 164. ],\n",
        "    [ 55.,  51.,  53., 157. ]\n",
        "], dtype=np.float32)\n",
        "\n",
        "# slice data\n",
        "X = data[:, :-1]\n",
        "y = data[:, [-1]]\n",
        "\n",
        "W = tf.Variable(tf.random_normal([3, 1]))\n",
        "b = tf.Variable(tf.random_normal([1]))\n",
        "\n",
        "learning_rate = 0.000001\n",
        "\n",
        "def predict(X):\n",
        "    return tf.matmul(X, W) + b\n",
        "\n",
        "print(\"epoch | cost\")\n",
        "\n",
        "n_epochs = 1000\n",
        "for i in range(n_epochs):\n",
        "    # tf.GradientTape() to record the gradient of the cost function\n",
        "    with tf.GradientTape() as tape:\n",
        "        cost = tf.reduce_mean((tf.square(predict(X) - y)))\n",
        "\n",
        "    # Loss함수의 gradient를 계산한다.\n",
        "    W_grad, b_grad = tape.gradient(cost, [W, b])\n",
        "\n",
        "    # 파라미터 업데이트 (W and b)\n",
        "    W.assign_sub(learning_rate * W_grad)\n",
        "    b.assign_sub(learning_rate * b_grad)\n",
        "    \n",
        "    if i % 100 == 0:\n",
        "        print(\"{:5} | {:10.4f}\".format(i, cost.numpy()))"
      ],
      "execution_count": 3,
      "outputs": [
        {
          "output_type": "stream",
          "text": [
            "Executing op VarHandleOp in device /job:localhost/replica:0/task:0/device:CPU:0\n",
            "Executing op DestroyResourceOp in device /job:localhost/replica:0/task:0/device:CPU:0\n",
            "epoch | cost\n",
            "Executing op MatMul in device /job:localhost/replica:0/task:0/device:CPU:0\n",
            "    0 | 27236.8125\n",
            "  100 |   459.1673\n",
            "  200 |   437.0807\n",
            "  300 |   436.9255\n",
            "  400 |   436.7884\n",
            "  500 |   436.6523\n",
            "  600 |   436.5163\n",
            "  700 |   436.3811\n",
            "  800 |   436.2463\n",
            "  900 |   436.1121\n"
          ],
          "name": "stdout"
        }
      ]
    },
    {
      "cell_type": "markdown",
      "metadata": {
        "id": "kT-4Ko7J51vf",
        "colab_type": "text"
      },
      "source": [
        "## 데이터를 기반으로예측해보자"
      ]
    },
    {
      "cell_type": "code",
      "metadata": {
        "colab_type": "code",
        "id": "KkBvCWIi4W0M",
        "colab": {
          "base_uri": "https://localhost:8080/",
          "height": 102
        },
        "outputId": "b64684c2-6b20-4ba2-f08e-6608b38777a7"
      },
      "source": [
        "def predict(X):\n",
        "    return tf.matmul(X, W) + b # 위쪽에 선언되어 있다.\n",
        "\n",
        "predict(X).numpy() # prediction, 예측값"
      ],
      "execution_count": 4,
      "outputs": [
        {
          "output_type": "execute_result",
          "data": {
            "text/plain": [
              "array([[211.64766 ],\n",
              "       [195.46713 ],\n",
              "       [176.60373 ],\n",
              "       [151.11214 ],\n",
              "       [118.361946]], dtype=float32)"
            ]
          },
          "metadata": {
            "tags": []
          },
          "execution_count": 4
        }
      ]
    },
    {
      "cell_type": "code",
      "metadata": {
        "colab_type": "code",
        "id": "AGyTHIyE41J2",
        "colab": {
          "base_uri": "https://localhost:8080/",
          "height": 51
        },
        "outputId": "e3f7944f-e869-4fe2-ca25-d047d5bcfa15"
      },
      "source": [
        "# 새로운 데이터에 대한 예측\n",
        "\n",
        "predict([[ 89.,  95.,  92.],[ 84.,  92.,  85.]]).numpy() "
      ],
      "execution_count": 5,
      "outputs": [
        {
          "output_type": "execute_result",
          "data": {
            "text/plain": [
              "array([[217.24406],\n",
              "       [209.30547]], dtype=float32)"
            ]
          },
          "metadata": {
            "tags": []
          },
          "execution_count": 5
        }
      ]
    },
    {
      "cell_type": "code",
      "metadata": {
        "colab_type": "code",
        "id": "RtMGAENE4xD9",
        "colab": {}
      },
      "source": [
        ""
      ],
      "execution_count": 0,
      "outputs": []
    }
  ]
}