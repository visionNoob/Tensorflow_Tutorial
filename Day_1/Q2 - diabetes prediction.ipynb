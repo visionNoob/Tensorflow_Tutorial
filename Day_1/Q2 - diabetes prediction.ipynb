{
  "nbformat": 4,
  "nbformat_minor": 0,
  "metadata": {
    "colab": {
      "name": "연습문제 2 - Diabete prediction.ipynb",
      "provenance": [],
      "include_colab_link": true
    },
    "kernelspec": {
      "display_name": "Python 3",
      "language": "python",
      "name": "python3"
    },
    "language_info": {
      "codemirror_mode": {
        "name": "ipython",
        "version": 3
      },
      "file_extension": ".py",
      "mimetype": "text/x-python",
      "name": "python",
      "nbconvert_exporter": "python",
      "pygments_lexer": "ipython3",
      "version": "3.7.3"
    }
  },
  "cells": [
    {
      "cell_type": "markdown",
      "metadata": {
        "id": "view-in-github",
        "colab_type": "text"
      },
      "source": [
        "<a href=\"https://colab.research.google.com/github/visionNoob/Tensorflow_Tutorial/blob/master/Day_1/Q2%20-%20diabetes%20prediction.ipynb\" target=\"_parent\"><img src=\"https://colab.research.google.com/assets/colab-badge.svg\" alt=\"Open In Colab\"/></a>"
      ]
    },
    {
      "cell_type": "code",
      "metadata": {
        "colab_type": "code",
        "id": "ENBsugN3Z25Z",
        "colab": {}
      },
      "source": [
        "import tensorflow as tf\n",
        "import tensorflow.contrib.eager as tfe\n",
        "import numpy as np\n",
        "import matplotlib.pyplot as plt\n",
        "\n",
        "tf.enable_eager_execution()\n",
        "tf.__version__"
      ],
      "execution_count": 0,
      "outputs": []
    },
    {
      "cell_type": "code",
      "metadata": {
        "id": "cpE6uUx-PLSQ",
        "colab_type": "code",
        "colab": {}
      },
      "source": [
        "!wget \"https://www.dropbox.com/s/qyz626uvhyb2111/data-03-diabetes.csv\""
      ],
      "execution_count": 0,
      "outputs": []
    },
    {
      "cell_type": "markdown",
      "metadata": {
        "id": "U6sXloPxPAla",
        "colab_type": "text"
      },
      "source": [
        "# 당뇨병을 진단해봅시다."
      ]
    },
    {
      "cell_type": "code",
      "metadata": {
        "colab_type": "code",
        "id": "8tyyJQoVZtv6",
        "colab": {}
      },
      "source": [
        "xy = np.loadtxt('./data-03-diabetes.csv', delimiter=',', dtype=np.float32)\n",
        "x_train = xy[0:-100, 0:-1]\n",
        "y_train = xy[0:-100, [-1]]\n",
        "\n",
        "x_test = xy[-100:, 0:-1]\n",
        "y_test = xy[-100:, [-1]]\n",
        "\n",
        "print(x_train.shape, y_train.shape)\n",
        "print(x_test.shape, y_test.shape)"
      ],
      "execution_count": 0,
      "outputs": []
    },
    {
      "cell_type": "code",
      "metadata": {
        "colab_type": "code",
        "id": "apdbQwZ9Z2DV",
        "colab": {}
      },
      "source": [
        "print(x_test)\n",
        "print(y_test)"
      ],
      "execution_count": 0,
      "outputs": []
    },
    {
      "cell_type": "code",
      "metadata": {
        "id": "OTpn2ZoKPAlf",
        "colab_type": "code",
        "colab": {}
      },
      "source": [
        "dataset = tf.data.Dataset.from_tensor_slices((x_train, y_train)).batch(len(x_train))\n"
      ],
      "execution_count": 0,
      "outputs": []
    },
    {
      "cell_type": "code",
      "metadata": {
        "colab_type": "code",
        "id": "yy6hZwGy45kO",
        "colab": {}
      },
      "source": [
        "W = tf.Variable(tf.random_normal(# TODO), name='weight')\n",
        "b = tf.Variable(tf.random_normal(# TODO), name='bias')\n"
      ],
      "execution_count": 0,
      "outputs": []
    },
    {
      "cell_type": "markdown",
      "metadata": {
        "id": "McBox-LlPAlj",
        "colab_type": "text"
      },
      "source": [
        "## 가설 설정\n",
        "* 병이 있다 / 없다로 분류\n",
        "* sigmoid classification으로 진행\n",
        "\n",
        "\n",
        "## $$ y_k = \\frac{1}{1+e^{-x}} = \\frac{exp(x_k)}{\\sum_{i=1}^{n}exp(x_i)}   $$"
      ]
    },
    {
      "cell_type": "code",
      "metadata": {
        "colab_type": "code",
        "id": "22WmI9ygawt_",
        "colab": {}
      },
      "source": [
        "def logistic_regression(features):\n",
        "    hypothesis  = # TODO\n",
        "    return hypothesis\n",
        "  \n",
        "print(logistic_regression(x_train))"
      ],
      "execution_count": 0,
      "outputs": []
    },
    {
      "cell_type": "markdown",
      "metadata": {
        "id": "qxPG_41nPAll",
        "colab_type": "text"
      },
      "source": [
        "## Loss Function\n",
        "\n",
        "* 기존 MSE 대신 Cross Entropy 사용\n",
        "\n",
        "## $$\n",
        "\\begin{align}\n",
        "loss(h(x),y) & = −y log(h(x))−(1−y)log(1−h(x))\n",
        "\\end{align}\n",
        "$$"
      ]
    },
    {
      "cell_type": "code",
      "metadata": {
        "colab_type": "code",
        "id": "RY6ssJoXarTa",
        "colab": {}
      },
      "source": [
        "def loss_fn(hypothesis, labels):\n",
        "    cost = # TODO\n",
        "    return cost\n",
        "\n",
        "optimizer = tf.train.GradientDescentOptimizer(learning_rate=0.05)"
      ],
      "execution_count": 0,
      "outputs": []
    },
    {
      "cell_type": "markdown",
      "metadata": {
        "id": "Rw3U1AJDPAlo",
        "colab_type": "text"
      },
      "source": [
        "## 학습"
      ]
    },
    {
      "cell_type": "code",
      "metadata": {
        "colab_type": "code",
        "id": "wo2YiZdYaEQw",
        "colab": {}
      },
      "source": [
        "epochs = 5000\n",
        "\n",
        "for step in range(epochs):\n",
        "  for features, labels in dataset:\n",
        "    with tf.GradientTape() as tape:\n",
        "      loss_value = # TODO\n",
        "      grads = # TODO \n",
        "      optimizer.apply_gradients(grads_and_vars=zip(# TODO))\n",
        "      if step % 100 == 0:\n",
        "            print(\"Iter: {}, Loss: {:.4f}\".format(step, loss_fn(logistic_regression(features),labels)))"
      ],
      "execution_count": 0,
      "outputs": []
    },
    {
      "cell_type": "markdown",
      "metadata": {
        "id": "ghj3EWgNPAlr",
        "colab_type": "text"
      },
      "source": [
        "## 테스트"
      ]
    },
    {
      "cell_type": "code",
      "metadata": {
        "colab_type": "code",
        "id": "cUJviOQ_aGVH",
        "colab": {}
      },
      "source": [
        "def accuracy_fn(hypothesis, labels):\n",
        "    predicted = tf.cast(hypothesis > 0.5, dtype=tf.float32)\n",
        "    accuracy = tf.reduce_mean(tf.cast(tf.equal(predicted, labels), dtype=tf.int32))\n",
        "    return accuracy"
      ],
      "execution_count": 0,
      "outputs": []
    },
    {
      "cell_type": "code",
      "metadata": {
        "colab_type": "code",
        "id": "vT0_ZXQLaIEN",
        "colab": {}
      },
      "source": [
        "test_acc = accuracy_fn(logistic_regression(x_test),y_test)\n",
        "print(\"Testset Accuracy: {:.4f}\".format(test_acc))"
      ],
      "execution_count": 0,
      "outputs": []
    },
    {
      "cell_type": "code",
      "metadata": {
        "colab_type": "code",
        "id": "4mazQlt-ai-P",
        "colab": {}
      },
      "source": [
        ""
      ],
      "execution_count": 0,
      "outputs": []
    }
  ]
}