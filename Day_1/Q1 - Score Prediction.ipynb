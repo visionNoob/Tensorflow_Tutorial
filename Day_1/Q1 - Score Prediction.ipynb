{
  "nbformat": 4,
  "nbformat_minor": 0,
  "metadata": {
    "colab": {
      "name": "Q1 - 성적 예측 - sol.ipynb의 사본",
      "provenance": [],
      "collapsed_sections": []
    },
    "kernelspec": {
      "display_name": "Python 3",
      "language": "python",
      "name": "python3"
    },
    "language_info": {
      "codemirror_mode": {
        "name": "ipython",
        "version": 3
      },
      "file_extension": ".py",
      "mimetype": "text/x-python",
      "name": "python",
      "nbconvert_exporter": "python",
      "pygments_lexer": "ipython3",
      "version": "3.7.3"
    }
  },
  "cells": [
    {
      "cell_type": "markdown",
      "metadata": {
        "id": "B4Y9__7MMMOg",
        "colab_type": "text"
      },
      "source": [
        "# Score prediction\n"
      ]
    },
    {
      "cell_type": "code",
      "metadata": {
        "id": "AJdSQJUGMbf2",
        "colab_type": "code",
        "colab": {
          "base_uri": "https://localhost:8080/",
          "height": 377
        },
        "outputId": "df6a233e-ce01-4139-e2c2-b7c158ee6eab"
      },
      "source": [
        "!wget \"https://www.dropbox.com/s/stjfjc0ercq0jc1/data-01-test-score.csv\""
      ],
      "execution_count": 1,
      "outputs": [
        {
          "output_type": "stream",
          "text": [
            "--2019-09-23 17:36:48--  https://www.dropbox.com/s/stjfjc0ercq0jc1/data-01-test-score.csv\n",
            "Resolving www.dropbox.com (www.dropbox.com)... 162.125.8.1, 2620:100:6016:1::a27d:101\n",
            "Connecting to www.dropbox.com (www.dropbox.com)|162.125.8.1|:443... connected.\n",
            "HTTP request sent, awaiting response... 301 Moved Permanently\n",
            "Location: /s/raw/stjfjc0ercq0jc1/data-01-test-score.csv [following]\n",
            "--2019-09-23 17:36:49--  https://www.dropbox.com/s/raw/stjfjc0ercq0jc1/data-01-test-score.csv\n",
            "Reusing existing connection to www.dropbox.com:443.\n",
            "HTTP request sent, awaiting response... 302 Found\n",
            "Location: https://ucb67ec41adb464b37ce336cb4a7.dl.dropboxusercontent.com/cd/0/inline/ApHCv9w1NOcAXrdFJmf04dnpu1UVhi7_JTwOcI_hMsO-WOhAn7IQlpZIDCGTfzfIfIe2BQspxLC3Xci2kBnMzlDv5awm4zvdPX2J_IKhgzNfpjXQOLaJuFtbWOrG2bOkJw4/file# [following]\n",
            "--2019-09-23 17:36:49--  https://ucb67ec41adb464b37ce336cb4a7.dl.dropboxusercontent.com/cd/0/inline/ApHCv9w1NOcAXrdFJmf04dnpu1UVhi7_JTwOcI_hMsO-WOhAn7IQlpZIDCGTfzfIfIe2BQspxLC3Xci2kBnMzlDv5awm4zvdPX2J_IKhgzNfpjXQOLaJuFtbWOrG2bOkJw4/file\n",
            "Resolving ucb67ec41adb464b37ce336cb4a7.dl.dropboxusercontent.com (ucb67ec41adb464b37ce336cb4a7.dl.dropboxusercontent.com)... 162.125.1.6, 2620:100:6016:6::a27d:106\n",
            "Connecting to ucb67ec41adb464b37ce336cb4a7.dl.dropboxusercontent.com (ucb67ec41adb464b37ce336cb4a7.dl.dropboxusercontent.com)|162.125.1.6|:443... connected.\n",
            "HTTP request sent, awaiting response... 200 OK\n",
            "Length: 349 [text/plain]\n",
            "Saving to: ‘data-01-test-score.csv’\n",
            "\n",
            "data-01-test-score. 100%[===================>]     349  --.-KB/s    in 0s      \n",
            "\n",
            "2019-09-23 17:36:49 (41.6 MB/s) - ‘data-01-test-score.csv’ saved [349/349]\n",
            "\n"
          ],
          "name": "stdout"
        }
      ]
    },
    {
      "cell_type": "markdown",
      "metadata": {
        "id": "RQ3XsRdHMmNz",
        "colab_type": "text"
      },
      "source": [
        ""
      ]
    },
    {
      "cell_type": "code",
      "metadata": {
        "colab_type": "code",
        "id": "ENBsugN3Z25Z",
        "outputId": "c8e6a33e-646a-447d-fc5f-d3df17d1dde1",
        "colab": {
          "base_uri": "https://localhost:8080/",
          "height": 34
        }
      },
      "source": [
        "import tensorflow as tf\n",
        "import tensorflow.contrib.eager as tfe\n",
        "import numpy as np\n",
        "import matplotlib.pyplot as plt\n",
        "\n",
        "tf.enable_eager_execution()\n",
        "tf.__version__"
      ],
      "execution_count": 2,
      "outputs": [
        {
          "output_type": "execute_result",
          "data": {
            "text/plain": [
              "'1.14.0'"
            ]
          },
          "metadata": {
            "tags": []
          },
          "execution_count": 2
        }
      ]
    },
    {
      "cell_type": "markdown",
      "metadata": {
        "id": "J-yfWHXnMMOl",
        "colab_type": "text"
      },
      "source": [
        "## Setting Data\n",
        "* 데이터를 불러와봅시다."
      ]
    },
    {
      "cell_type": "code",
      "metadata": {
        "colab_type": "code",
        "id": "8tyyJQoVZtv6",
        "outputId": "614f897d-8107-45be-e784-32f50a79eb54",
        "colab": {
          "base_uri": "https://localhost:8080/",
          "height": 34
        }
      },
      "source": [
        "xy = np.loadtxt('./data-01-test-score.csv', delimiter=',', dtype=np.float32)\n",
        "\n",
        "x_train = xy[:, 0:-1]\n",
        "y_train = xy[:, [-1]]\n",
        "\n",
        "print(x_train.shape, y_train.shape)\n"
      ],
      "execution_count": 3,
      "outputs": [
        {
          "output_type": "stream",
          "text": [
            "(25, 3) (25, 1)\n"
          ],
          "name": "stdout"
        }
      ]
    },
    {
      "cell_type": "markdown",
      "metadata": {
        "id": "9sckikSXMMOo",
        "colab_type": "text"
      },
      "source": [
        "## make a dataset"
      ]
    },
    {
      "cell_type": "code",
      "metadata": {
        "id": "lwFcOjEhMMOo",
        "colab_type": "code",
        "colab": {}
      },
      "source": [
        "dataset = tf.data.Dataset.from_tensor_slices((x_train, y_train)).batch(len(x_train))\n"
      ],
      "execution_count": 0,
      "outputs": []
    },
    {
      "cell_type": "markdown",
      "metadata": {
        "id": "qf1N3XW0MMOr",
        "colab_type": "text"
      },
      "source": [
        "# 가설 설정"
      ]
    },
    {
      "cell_type": "code",
      "metadata": {
        "colab_type": "code",
        "id": "yy6hZwGy45kO",
        "colab": {}
      },
      "source": [
        "W = tf.Variable(tf.random_normal(# TODO), name='weight')\n",
        "b = tf.Variable(tf.random_normal(# TODO), name='bias')\n",
        "\n",
        "print(W,b)\n"
      ],
      "execution_count": 0,
      "outputs": []
    },
    {
      "cell_type": "code",
      "metadata": {
        "colab_type": "code",
        "id": "22WmI9ygawt_",
        "colab": {}
      },
      "source": [
        "def linear_regression(features):\n",
        "    hypothesis  = # TODO\n",
        "    return hypothesis\n",
        "  \n",
        "print(linear_regression(x_train))"
      ],
      "execution_count": 0,
      "outputs": []
    },
    {
      "cell_type": "markdown",
      "metadata": {
        "id": "YOuMIpcEMMOw",
        "colab_type": "text"
      },
      "source": [
        "# cost 함수 설정\n",
        "\n",
        "\n",
        "$$ cost(W)=\\frac { 1 }{ m } \\sum _{i=1}^{m}{ { ({ H(x_{ i }) }-y_{ i } })^{ 2 } }  $$"
      ]
    },
    {
      "cell_type": "code",
      "metadata": {
        "colab_type": "code",
        "id": "RY6ssJoXarTa",
        "colab": {}
      },
      "source": [
        "def loss_fn(hypothesis, labels):\n",
        "    cost = # TODO\n",
        "    return cost\n",
        "\n",
        "optimizer = tf.train.GradientDescentOptimizer(learning_rate=# TODO)"
      ],
      "execution_count": 0,
      "outputs": []
    },
    {
      "cell_type": "markdown",
      "metadata": {
        "id": "XinLzf2dMMOz",
        "colab_type": "text"
      },
      "source": [
        "# 학습"
      ]
    },
    {
      "cell_type": "code",
      "metadata": {
        "colab_type": "code",
        "id": "wo2YiZdYaEQw",
        "colab": {}
      },
      "source": [
        "epochs = 5000\n",
        "\n",
        "for step in range(epochs):\n",
        "  for features, labels in dataset:\n",
        "    with tf.GradientTape() as tape:\n",
        "      # TODO\n",
        "      loss_value = \n",
        "      grads = \n",
        "      optimizer.apply_gradients(grads_and_vars=zip(grads,[W,b]))\n",
        "      if step % 100 == 0:\n",
        "            print(\"Iter: {}, Loss: {:.4f}\".format(step, loss_fn(linear_regression(features),labels)))"
      ],
      "execution_count": 0,
      "outputs": []
    },
    {
      "cell_type": "code",
      "metadata": {
        "colab_type": "code",
        "id": "Fu1S6WVm4M1Y",
        "colab": {}
      },
      "source": [
        "print(W, b)"
      ],
      "execution_count": 0,
      "outputs": []
    },
    {
      "cell_type": "code",
      "metadata": {
        "colab_type": "code",
        "id": "cUJviOQ_aGVH",
        "colab": {}
      },
      "source": [
        "hypothesis= linear_regression(x_train)\n",
        "\n",
        "plt.plot(y_train, 'o-', color='red')\n",
        "plt.plot(hypothesis.numpy(), 'o-', color='blue')\n",
        "plt.show()"
      ],
      "execution_count": 0,
      "outputs": []
    },
    {
      "cell_type": "code",
      "metadata": {
        "colab_type": "code",
        "id": "4mazQlt-ai-P",
        "colab": {}
      },
      "source": [
        ""
      ],
      "execution_count": 0,
      "outputs": []
    }
  ]
}