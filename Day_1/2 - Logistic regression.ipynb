{
  "nbformat": 4,
  "nbformat_minor": 0,
  "metadata": {
    "colab": {
      "name": "2 - Logistic regression.ipynb",
      "provenance": [],
      "collapsed_sections": [],
      "include_colab_link": true
    },
    "kernelspec": {
      "name": "python3",
      "display_name": "Python 3"
    },
    "language_info": {
      "codemirror_mode": {
        "name": "ipython",
        "version": 3
      },
      "file_extension": ".py",
      "mimetype": "text/x-python",
      "name": "python",
      "nbconvert_exporter": "python",
      "pygments_lexer": "ipython3",
      "version": "3.7.3"
    },
    "accelerator": "GPU"
  },
  "cells": [
    {
      "cell_type": "markdown",
      "metadata": {
        "id": "view-in-github",
        "colab_type": "text"
      },
      "source": [
        "<a href=\"https://colab.research.google.com/github/visionNoob/Tensorflow_Tutorial/blob/master/Day_1/2%20-%20Logistic%20regression.ipynb\" target=\"_parent\"><img src=\"https://colab.research.google.com/assets/colab-badge.svg\" alt=\"Open In Colab\"/></a>"
      ]
    },
    {
      "cell_type": "markdown",
      "metadata": {
        "id": "okEiFJLI4k5M",
        "colab_type": "text"
      },
      "source": [
        "# Logistic Regression"
      ]
    },
    {
      "cell_type": "code",
      "metadata": {
        "colab_type": "code",
        "id": "gEndPDUNEe-H",
        "outputId": "8d3e4bac-4e72-4fb0-a02d-593237ee5b8f",
        "colab": {
          "base_uri": "https://localhost:8080/",
          "height": 34
        }
      },
      "source": [
        "import tensorflow as tf\n",
        "import numpy as np\n",
        "import matplotlib.pyplot as plt\n",
        "\n",
        "tf.debugging.set_log_device_placement(True)\n",
        "tf.enable_eager_execution()\n",
        "tf.__version__"
      ],
      "execution_count": 0,
      "outputs": [
        {
          "output_type": "execute_result",
          "data": {
            "text/plain": [
              "'1.14.0'"
            ]
          },
          "metadata": {
            "tags": []
          },
          "execution_count": 1
        }
      ]
    },
    {
      "cell_type": "markdown",
      "metadata": {
        "colab_type": "text",
        "id": "dRqCpkpdMdTQ"
      },
      "source": [
        "## Make a dataset for Logistic Regression\n",
        "\n",
        "### Logistic Regression을 위한 Dataset을 임의로 만들어 봅시다.\n",
        "\n",
        "* 2가지 위치에 몰려있는 데이터\n",
        "* 테스트를 위한 빨간색 데이터"
      ]
    },
    {
      "cell_type": "code",
      "metadata": {
        "colab_type": "code",
        "id": "9yre_ERVEma8",
        "outputId": "10027f22-72d6-4e89-c6b2-e8be152c0724",
        "colab": {
          "base_uri": "https://localhost:8080/",
          "height": 283
        }
      },
      "source": [
        "x_train = [[1., 1.2],\n",
        "          [2., 1.5],\n",
        "          [3., 1.1],\n",
        "          [4., 3.],\n",
        "          [5., 2.7],\n",
        "          [6., 2.5]]\n",
        "y_train = [[0.],\n",
        "          [0.],\n",
        "          [0.],\n",
        "          [1.],\n",
        "          [1.],\n",
        "          [1.]]\n",
        "\n",
        "x_test = [[3.5,2.15]]\n",
        "y_test = [[1.]]\n",
        "\n",
        "x1 = [x[0] for x in x_train]\n",
        "x2 = [x[1] for x in x_train]\n",
        "\n",
        "colors = [int(y[0] % 3) for y in y_train]\n",
        "plt.scatter(x1,x2, c=colors , marker='^')\n",
        "plt.scatter(x_test[0][0],x_test[0][1], c=\"red\")\n",
        "\n",
        "plt.xlabel(\"x1\")\n",
        "plt.ylabel(\"x2\")\n",
        "plt.show()"
      ],
      "execution_count": 0,
      "outputs": [
        {
          "output_type": "display_data",
          "data": {
            "image/png": "[encoded data removed]",
            "text/plain": [
              "<Figure size 432x288 with 1 Axes>"
            ]
          },
          "metadata": {
            "tags": []
          }
        }
      ]
    },
    {
      "cell_type": "markdown",
      "metadata": {
        "id": "Cz_5ek6x4k5X",
        "colab_type": "text"
      },
      "source": [
        "## tf.data.Dataset\n",
        "* 데이터를 관리해주기위한 tf function\n",
        "* 각 데이터의 필요 기능들을 지원해준다.\n",
        "* 데이터셋 크기가 클 경우에 메모리에 나눠올리는 기능을 지원"
      ]
    },
    {
      "cell_type": "code",
      "metadata": {
        "colab_type": "code",
        "id": "MxddblPApI8v",
        "outputId": "cb377058-aeaa-4b8c-c925-a05d758dbf10",
        "colab": {
          "base_uri": "https://localhost:8080/",
          "height": 238
        }
      },
      "source": [
        "dataset = tf.data.Dataset.from_tensor_slices(\n",
        "    (x_train, y_train)).batch(len(x_train))\n",
        "\n",
        "W = tf.Variable(tf.random_normal([2,1]), name='weight')\n",
        "b = tf.Variable(tf.random_normal([1]), name='bias')\n",
        "\n",
        "print(W, b)"
      ],
      "execution_count": 0,
      "outputs": [
        {
          "output_type": "stream",
          "text": [
            "Executing op TensorSliceDataset in device /job:localhost/replica:0/task:0/device:CPU:0\n",
            "Executing op BatchDatasetV2 in device /job:localhost/replica:0/task:0/device:CPU:0\n",
            "Executing op RandomStandardNormal in device /job:localhost/replica:0/task:0/device:GPU:0\n",
            "Executing op Mul in device /job:localhost/replica:0/task:0/device:GPU:0\n",
            "Executing op Add in device /job:localhost/replica:0/task:0/device:GPU:0\n",
            "Executing op VarHandleOp in device /job:localhost/replica:0/task:0/device:GPU:0\n",
            "Executing op VarIsInitializedOp in device /job:localhost/replica:0/task:0/device:GPU:0\n",
            "Executing op AssignVariableOp in device /job:localhost/replica:0/task:0/device:GPU:0\n",
            "Executing op VarHandleOp in device /job:localhost/replica:0/task:0/device:GPU:0\n",
            "Executing op ReadVariableOp in device /job:localhost/replica:0/task:0/device:GPU:0\n",
            "<tf.Variable 'weight:0' shape=(2, 1) dtype=float32, numpy=\n",
            "array([[ 0.69984436],\n",
            "       [-1.9253724 ]], dtype=float32)> <tf.Variable 'bias:0' shape=(1,) dtype=float32, numpy=array([-0.92719346], dtype=float32)>\n"
          ],
          "name": "stdout"
        }
      ]
    },
    {
      "cell_type": "markdown",
      "metadata": {
        "colab_type": "text",
        "id": "BYPKT6To56Iv"
      },
      "source": [
        "## Sigmoid 함수를 가설로 선언합니다\n",
        "* Sigmoid는 아래 그래프와 같이 0과 1의 값만을 리턴합니다 tf.sigmoid(tf.matmul(X, W) + b)와 같습니다\n",
        "\n",
        "## $$\n",
        "\\begin{align}\n",
        "sigmoid(x) & = \\frac{1}{1+e^{-x}}  \\\\\\\\\\\n",
        "\\end{align}\n",
        "$$\n",
        "\n",
        "![sigmoid](https://upload.wikimedia.org/wikipedia/commons/8/88/Logistic-curve.svg)"
      ]
    },
    {
      "cell_type": "code",
      "metadata": {
        "colab_type": "code",
        "id": "LFAWvdar8PP-",
        "outputId": "ee083bab-84d7-4c61-b020-b745ac4b0c82",
        "colab": {
          "base_uri": "https://localhost:8080/",
          "height": 255
        }
      },
      "source": [
        "def logistic_regression(features):\n",
        "    hypothesis  = tf.div(1., 1. + tf.exp(-(tf.matmul(features, W) + b)))\n",
        "    return hypothesis\n",
        "\n",
        "print(logistic_regression(x_train))"
      ],
      "execution_count": 0,
      "outputs": [
        {
          "output_type": "stream",
          "text": [
            "Executing op MatMul in device /job:localhost/replica:0/task:0/device:GPU:0\n",
            "Executing op Neg in device /job:localhost/replica:0/task:0/device:GPU:0\n",
            "Executing op Exp in device /job:localhost/replica:0/task:0/device:GPU:0\n",
            "WARNING:tensorflow:From <ipython-input-4-47df1c591a10>:2: div (from tensorflow.python.ops.math_ops) is deprecated and will be removed in a future version.\n",
            "Instructions for updating:\n",
            "Deprecated in favor of operator or tf.math.divide.\n",
            "Executing op RealDiv in device /job:localhost/replica:0/task:0/device:GPU:0\n",
            "tf.Tensor(\n",
            "[[0.07325065]\n",
            " [0.08199359]\n",
            " [0.2797766 ]\n",
            " [0.01976396]\n",
            " [0.06745372]\n",
            " [0.1763089 ]], shape=(6, 1), dtype=float32)\n"
          ],
          "name": "stdout"
        }
      ]
    },
    {
      "cell_type": "markdown",
      "metadata": {
        "colab_type": "text",
        "id": "PXHVNZ6W8V83"
      },
      "source": [
        "## 가설을 검증할 Cost 함수를 정의합니다\n",
        "$$\n",
        "\\begin{align}\n",
        "cost(h(x),y) & = −log(h(x))  &  if :  &  y=1 \\\\\\\\\\\n",
        "cost(h(x),y) & = -log(1−h(x))  &  if :  &  y=0\n",
        "\\end{align}\n",
        "$$\n",
        "\n",
        "### 두 식을 한번에 쓰게되면,\n",
        "\n",
        "$$\n",
        "\\begin{align}\n",
        "cost(h(x),y) & = −y log(h(x))−(1−y)log(1−h(x))\n",
        "\\end{align}\n",
        "$$"
      ]
    },
    {
      "cell_type": "code",
      "metadata": {
        "colab_type": "code",
        "id": "oxIgE6nt8zvR",
        "colab": {}
      },
      "source": [
        "def loss_fn(hypothesis, labels):\n",
        "    cost = -tf.reduce_mean(labels * tf.log(hypothesis) + \\\n",
        "                           (1 - labels) * tf.log(1 - hypothesis))\n",
        "    return cost\n",
        "\n",
        "optimizer = tf.train.GradientDescentOptimizer(learning_rate=0.001)"
      ],
      "execution_count": 0,
      "outputs": []
    },
    {
      "cell_type": "code",
      "metadata": {
        "colab_type": "code",
        "id": "8xmYMVq65vFd",
        "outputId": "d9015cc6-4ac4-4249-9e6e-711cb8156b39",
        "colab": {
          "base_uri": "https://localhost:8080/",
          "height": 1000
        }
      },
      "source": [
        "epochs = 5000\n",
        "\n",
        "for step in range(epochs):\n",
        "  for features, labels in dataset:\n",
        "    with tf.GradientTape() as tape:\n",
        "      loss_value = loss_fn(logistic_regression(features),labels)\n",
        "      grads = tape.gradient(loss_value, [W,b])\n",
        "      optimizer.apply_gradients(grads_and_vars=zip(grads,[W,b]))\n",
        "      if step % 100 == 0:\n",
        "            print(\"Iter: {}, Loss: {:.4f}\".format(step, loss_fn(logistic_regression(features),labels)))"
      ],
      "execution_count": 0,
      "outputs": [
        {
          "output_type": "stream",
          "text": [
            "Executing op OptimizeDataset in device /job:localhost/replica:0/task:0/device:CPU:0\n",
            "Executing op ModelDataset in device /job:localhost/replica:0/task:0/device:CPU:0\n",
            "Executing op AnonymousIteratorV2 in device /job:localhost/replica:0/task:0/device:CPU:0\n",
            "Executing op MakeIterator in device /job:localhost/replica:0/task:0/device:CPU:0\n",
            "Executing op IteratorGetNextSync in device /job:localhost/replica:0/task:0/device:CPU:0\n",
            "Executing op Log in device /job:localhost/replica:0/task:0/device:GPU:0\n",
            "Executing op Sub in device /job:localhost/replica:0/task:0/device:GPU:0\n",
            "Executing op Mean in device /job:localhost/replica:0/task:0/device:GPU:0\n",
            "Executing op Reshape in device /job:localhost/replica:0/task:0/device:GPU:0\n",
            "Executing op Tile in device /job:localhost/replica:0/task:0/device:GPU:0\n",
            "Executing op Reciprocal in device /job:localhost/replica:0/task:0/device:GPU:0\n",
            "Executing op Shape in device /job:localhost/replica:0/task:0/device:GPU:0\n",
            "Executing op BroadcastGradientArgs in device /job:localhost/replica:0/task:0/device:GPU:0\n",
            "Executing op Sum in device /job:localhost/replica:0/task:0/device:GPU:0\n",
            "Executing op AddN in device /job:localhost/replica:0/task:0/device:GPU:0\n",
            "Executing op MatMul in device /job:localhost/replica:0/task:0/device:GPU:0\n",
            "Executing op ResourceApplyGradientDescent in device /job:localhost/replica:0/task:0/device:GPU:0\n",
            "Iter: 0, Loss: 1.4684\n",
            "Executing op DeleteIterator in device /job:localhost/replica:0/task:0/device:CPU:0\n",
            "Iter: 100, Loss: 1.0124\n",
            "Iter: 200, Loss: 0.7776\n",
            "Iter: 300, Loss: 0.6677\n",
            "Iter: 400, Loss: 0.6147\n",
            "Iter: 500, Loss: 0.5875\n",
            "Iter: 600, Loss: 0.5726\n",
            "Iter: 700, Loss: 0.5639\n",
            "Iter: 800, Loss: 0.5583\n",
            "Iter: 900, Loss: 0.5544\n",
            "Iter: 1000, Loss: 0.5515\n",
            "Iter: 1100, Loss: 0.5491\n",
            "Iter: 1200, Loss: 0.5469\n",
            "Iter: 1300, Loss: 0.5449\n",
            "Iter: 1400, Loss: 0.5430\n",
            "Iter: 1500, Loss: 0.5412\n",
            "Iter: 1600, Loss: 0.5394\n",
            "Iter: 1700, Loss: 0.5376\n",
            "Iter: 1800, Loss: 0.5359\n",
            "Iter: 1900, Loss: 0.5341\n",
            "Iter: 2000, Loss: 0.5324\n",
            "Iter: 2100, Loss: 0.5307\n",
            "Iter: 2200, Loss: 0.5290\n",
            "Iter: 2300, Loss: 0.5273\n",
            "Iter: 2400, Loss: 0.5256\n",
            "Iter: 2500, Loss: 0.5239\n",
            "Iter: 2600, Loss: 0.5222\n",
            "Iter: 2700, Loss: 0.5205\n",
            "Iter: 2800, Loss: 0.5188\n",
            "Iter: 2900, Loss: 0.5171\n",
            "Iter: 3000, Loss: 0.5155\n",
            "Iter: 3100, Loss: 0.5138\n",
            "Iter: 3200, Loss: 0.5122\n",
            "Iter: 3300, Loss: 0.5105\n",
            "Iter: 3400, Loss: 0.5089\n",
            "Iter: 3500, Loss: 0.5073\n",
            "Iter: 3600, Loss: 0.5056\n",
            "Iter: 3700, Loss: 0.5040\n",
            "Iter: 3800, Loss: 0.5024\n",
            "Iter: 3900, Loss: 0.5008\n",
            "Iter: 4000, Loss: 0.4992\n",
            "Iter: 4100, Loss: 0.4976\n",
            "Iter: 4200, Loss: 0.4960\n",
            "Iter: 4300, Loss: 0.4944\n",
            "Iter: 4400, Loss: 0.4929\n",
            "Iter: 4500, Loss: 0.4913\n",
            "Iter: 4600, Loss: 0.4897\n",
            "Iter: 4700, Loss: 0.4882\n",
            "Iter: 4800, Loss: 0.4866\n",
            "Iter: 4900, Loss: 0.4851\n"
          ],
          "name": "stdout"
        }
      ]
    },
    {
      "cell_type": "code",
      "metadata": {
        "colab_type": "code",
        "id": "Ci-nHblj--z9",
        "colab": {}
      },
      "source": [
        "def accuracy_fn(hypothesis, labels):\n",
        "    predicted = tf.cast(hypothesis > 0.5, dtype=tf.float32)\n",
        "    accuracy = tf.reduce_mean(tf.cast(tf.equal(predicted, labels), dtype=tf.float32))\n",
        "    return accuracy"
      ],
      "execution_count": 0,
      "outputs": []
    },
    {
      "cell_type": "code",
      "metadata": {
        "colab_type": "code",
        "id": "YANtydPI6-sl",
        "outputId": "19d6f6b7-b367-4022-c71c-b9f70d11e7bd",
        "colab": {
          "base_uri": "https://localhost:8080/",
          "height": 85
        }
      },
      "source": [
        "test_acc = accuracy_fn(logistic_regression(x_test),y_test)\n",
        "print(\"Testset Accuracy: {:.4f}\".format(test_acc))"
      ],
      "execution_count": 0,
      "outputs": [
        {
          "output_type": "stream",
          "text": [
            "Executing op Greater in device /job:localhost/replica:0/task:0/device:GPU:0\n",
            "Executing op Cast in device /job:localhost/replica:0/task:0/device:GPU:0\n",
            "Executing op Equal in device /job:localhost/replica:0/task:0/device:GPU:0\n",
            "Testset Accuracy: 1.0000\n"
          ],
          "name": "stdout"
        }
      ]
    },
    {
      "cell_type": "code",
      "metadata": {
        "id": "N-d28dms4k5o",
        "colab_type": "code",
        "colab": {}
      },
      "source": [
        ""
      ],
      "execution_count": 0,
      "outputs": []
    }
  ]
}