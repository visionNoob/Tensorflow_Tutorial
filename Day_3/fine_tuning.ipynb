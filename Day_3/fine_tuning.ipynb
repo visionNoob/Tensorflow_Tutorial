{
  "nbformat": 4,
  "nbformat_minor": 0,
  "metadata": {
    "colab": {
      "name": "fine_tuning.ipynb",
      "provenance": [],
      "collapsed_sections": [],
      "include_colab_link": true
    },
    "kernelspec": {
      "name": "python3",
      "display_name": "Python 3"
    },
    "accelerator": "GPU"
  },
  "cells": [
    {
      "cell_type": "markdown",
      "metadata": {
        "id": "view-in-github",
        "colab_type": "text"
      },
      "source": [
        "<a href=\"https://colab.research.google.com/github/visionNoob/Tensorflow_Tutorial/blob/master/Day_3/fine_tuning.ipynb\" target=\"_parent\"><img src=\"https://colab.research.google.com/assets/colab-badge.svg\" alt=\"Open In Colab\"/></a>"
      ]
    },
    {
      "cell_type": "code",
      "metadata": {
        "id": "pi8CanaDLuKF",
        "colab_type": "code",
        "colab": {
          "base_uri": "https://localhost:8080/",
          "height": 34
        },
        "outputId": "dcd145eb-d1e9-4be5-8089-eb7bcb938988"
      },
      "source": [
        "import os\n",
        "import sys\n",
        "import time\n",
        "import shutil\n",
        "\n",
        "import tensorflow as tf\n",
        "from tensorflow.keras import layers\n",
        "from tensorflow.keras.preprocessing.image import ImageDataGenerator\n",
        "from tensorflow.keras.callbacks import ReduceLROnPlateau\n",
        "from tensorflow.keras import applications\n",
        "\n",
        "import numpy as np\n",
        "import matplotlib.pyplot as plt\n",
        "from IPython.display import clear_output\n",
        "\n",
        "tf.enable_eager_execution()\n",
        "tf.set_random_seed(42)\n",
        "np.random.seed(42)\n",
        "tf.__version__"
      ],
      "execution_count": 1,
      "outputs": [
        {
          "output_type": "execute_result",
          "data": {
            "text/plain": [
              "'1.14.0'"
            ]
          },
          "metadata": {
            "tags": []
          },
          "execution_count": 1
        }
      ]
    },
    {
      "cell_type": "code",
      "metadata": {
        "id": "sz_h9miHMuwW",
        "colab_type": "code",
        "colab": {}
      },
      "source": [
        "conv_base = tf.keras.applications.VGG16(weights='imagenet',\n",
        "                                        include_top=False,\n",
        "                                        input_shape=(150,150,3))"
      ],
      "execution_count": 0,
      "outputs": []
    },
    {
      "cell_type": "code",
      "metadata": {
        "id": "YMSEDN1YM0bW",
        "colab_type": "code",
        "colab": {
          "base_uri": "https://localhost:8080/",
          "height": 799
        },
        "outputId": "d4a8c18d-81f6-46d5-c05a-a9eb4e229781"
      },
      "source": [
        "conv_base.summary()"
      ],
      "execution_count": 3,
      "outputs": [
        {
          "output_type": "stream",
          "text": [
            "Model: \"vgg16\"\n",
            "_________________________________________________________________\n",
            "Layer (type)                 Output Shape              Param #   \n",
            "=================================================================\n",
            "input_1 (InputLayer)         [(None, 150, 150, 3)]     0         \n",
            "_________________________________________________________________\n",
            "block1_conv1 (Conv2D)        (None, 150, 150, 64)      1792      \n",
            "_________________________________________________________________\n",
            "block1_conv2 (Conv2D)        (None, 150, 150, 64)      36928     \n",
            "_________________________________________________________________\n",
            "block1_pool (MaxPooling2D)   (None, 75, 75, 64)        0         \n",
            "_________________________________________________________________\n",
            "block2_conv1 (Conv2D)        (None, 75, 75, 128)       73856     \n",
            "_________________________________________________________________\n",
            "block2_conv2 (Conv2D)        (None, 75, 75, 128)       147584    \n",
            "_________________________________________________________________\n",
            "block2_pool (MaxPooling2D)   (None, 37, 37, 128)       0         \n",
            "_________________________________________________________________\n",
            "block3_conv1 (Conv2D)        (None, 37, 37, 256)       295168    \n",
            "_________________________________________________________________\n",
            "block3_conv2 (Conv2D)        (None, 37, 37, 256)       590080    \n",
            "_________________________________________________________________\n",
            "block3_conv3 (Conv2D)        (None, 37, 37, 256)       590080    \n",
            "_________________________________________________________________\n",
            "block3_pool (MaxPooling2D)   (None, 18, 18, 256)       0         \n",
            "_________________________________________________________________\n",
            "block4_conv1 (Conv2D)        (None, 18, 18, 512)       1180160   \n",
            "_________________________________________________________________\n",
            "block4_conv2 (Conv2D)        (None, 18, 18, 512)       2359808   \n",
            "_________________________________________________________________\n",
            "block4_conv3 (Conv2D)        (None, 18, 18, 512)       2359808   \n",
            "_________________________________________________________________\n",
            "block4_pool (MaxPooling2D)   (None, 9, 9, 512)         0         \n",
            "_________________________________________________________________\n",
            "block5_conv1 (Conv2D)        (None, 9, 9, 512)         2359808   \n",
            "_________________________________________________________________\n",
            "block5_conv2 (Conv2D)        (None, 9, 9, 512)         2359808   \n",
            "_________________________________________________________________\n",
            "block5_conv3 (Conv2D)        (None, 9, 9, 512)         2359808   \n",
            "_________________________________________________________________\n",
            "block5_pool (MaxPooling2D)   (None, 4, 4, 512)         0         \n",
            "=================================================================\n",
            "Total params: 14,714,688\n",
            "Trainable params: 14,714,688\n",
            "Non-trainable params: 0\n",
            "_________________________________________________________________\n"
          ],
          "name": "stdout"
        }
      ]
    },
    {
      "cell_type": "code",
      "metadata": {
        "id": "ytcM0V5AN2Gd",
        "colab_type": "code",
        "colab": {
          "base_uri": "https://localhost:8080/",
          "height": 289
        },
        "outputId": "1fc9c24d-43e8-42d3-b16c-05734b3e2c66"
      },
      "source": [
        "model = tf.keras.Sequential()\n",
        "model.add(conv_base)\n",
        "model.add(tf.keras.layers.Flatten())\n",
        "model.add(tf.keras.layers.Dense(256, activation='relu'))\n",
        "model.add(tf.keras.layers.Dense(5, activation='softmax'))\n",
        "\n",
        "model.summary()"
      ],
      "execution_count": 4,
      "outputs": [
        {
          "output_type": "stream",
          "text": [
            "Model: \"sequential\"\n",
            "_________________________________________________________________\n",
            "Layer (type)                 Output Shape              Param #   \n",
            "=================================================================\n",
            "vgg16 (Model)                (None, 4, 4, 512)         14714688  \n",
            "_________________________________________________________________\n",
            "flatten (Flatten)            (None, 8192)              0         \n",
            "_________________________________________________________________\n",
            "dense (Dense)                (None, 256)               2097408   \n",
            "_________________________________________________________________\n",
            "dense_1 (Dense)              (None, 5)                 1285      \n",
            "=================================================================\n",
            "Total params: 16,813,381\n",
            "Trainable params: 16,813,381\n",
            "Non-trainable params: 0\n",
            "_________________________________________________________________\n"
          ],
          "name": "stdout"
        }
      ]
    },
    {
      "cell_type": "code",
      "metadata": {
        "id": "tEGevmcniDSi",
        "colab_type": "code",
        "colab": {
          "base_uri": "https://localhost:8080/",
          "height": 85
        },
        "outputId": "8635f95d-cf3d-45f2-a617-4364d07234ee"
      },
      "source": [
        "# Freeze vgg16 conv base part (means that trainable option is False)\n",
        "for layer in model.layers:\n",
        "  if layer.name == 'vgg16':\n",
        "    layer.trainable = False\n",
        "  print(\"variable name: {}, trainable: {}\".format(layer.name, layer.trainable))\n",
        "\n",
        "# also \n",
        "#conv_base.trainable = False"
      ],
      "execution_count": 5,
      "outputs": [
        {
          "output_type": "stream",
          "text": [
            "variable name: vgg16, trainable: False\n",
            "variable name: flatten, trainable: True\n",
            "variable name: dense, trainable: True\n",
            "variable name: dense_1, trainable: True\n"
          ],
          "name": "stdout"
        }
      ]
    },
    {
      "cell_type": "code",
      "metadata": {
        "id": "zsoDx_TrlnUq",
        "colab_type": "code",
        "colab": {
          "base_uri": "https://localhost:8080/",
          "height": 51
        },
        "outputId": "8b587da8-3ea0-4631-a596-20f1dfadea1b"
      },
      "source": [
        "# I upload zip file on my dropbox\n",
        "# if you want to download from my dropbox uncomment below  \n",
        "DATASET_PATH='./flower'\n",
        "  \n",
        "if not os.path.isdir(DATASET_PATH):\n",
        "  os.makedirs(DATASET_PATH)\n",
        "  \n",
        "  import urllib.request\n",
        "  u = urllib.request.urlopen(url='https://www.dropbox.com/s/1tqczockfgdnz8z/flower.zip?dl=1')\n",
        "  data = u.read()\n",
        "  u.close()\n",
        " \n",
        "  with open('flower.zip', \"wb\") as f :\n",
        "    f.write(data)\n",
        "  print('Data has been downloaded')\n",
        "  \n",
        "  shutil.move(os.path.join('flower.zip'), os.path.join(DATASET_PATH))\n",
        "  file_path = os.path.join(DATASET_PATH, 'flower.zip')\n",
        "  \n",
        "  import zipfile\n",
        "  zip_ref = zipfile.ZipFile(file_path, 'r')\n",
        "  zip_ref.extractall(DATASET_PATH)\n",
        "  zip_ref.close()\n",
        "  print('Data has been extracted.')\n",
        "  \n",
        "else:\n",
        "  print('Data has already been downloaded and extracted.')"
      ],
      "execution_count": 6,
      "outputs": [
        {
          "output_type": "stream",
          "text": [
            "Data has been downloaded\n",
            "Data has been extracted.\n"
          ],
          "name": "stdout"
        }
      ]
    },
    {
      "cell_type": "code",
      "metadata": {
        "id": "XDQK0gkdluL9",
        "colab_type": "code",
        "colab": {
          "base_uri": "https://localhost:8080/",
          "height": 68
        },
        "outputId": "5ba5e7b7-b25f-40c3-ca5c-6fb270fc8dea"
      },
      "source": [
        "base_dir = os.path.join(DATASET_PATH, 'flower')\n",
        "\n",
        "train_dir = os.path.join(base_dir, 'train')\n",
        "validation_dir = os.path.join(base_dir, 'validation')\n",
        "test_dir = os.path.join(base_dir, 'test')\n",
        "\n",
        "print(train_dir)\n",
        "print(validation_dir)\n",
        "print(test_dir)"
      ],
      "execution_count": 7,
      "outputs": [
        {
          "output_type": "stream",
          "text": [
            "./flower/flower/train\n",
            "./flower/flower/validation\n",
            "./flower/flower/test\n"
          ],
          "name": "stdout"
        }
      ]
    },
    {
      "cell_type": "code",
      "metadata": {
        "id": "ii6ys0wtlwO3",
        "colab_type": "code",
        "colab": {
          "base_uri": "https://localhost:8080/",
          "height": 102
        },
        "outputId": "af4a834c-2579-4930-91df-0bd913366f4c"
      },
      "source": [
        "class_name = sorted(os.listdir(train_dir))\n",
        "for name in class_name:\n",
        "  print(name)"
      ],
      "execution_count": 10,
      "outputs": [
        {
          "output_type": "stream",
          "text": [
            "daisy\n",
            "dandelion\n",
            "roses\n",
            "sunflowers\n",
            "tulips\n"
          ],
          "name": "stdout"
        }
      ]
    },
    {
      "cell_type": "code",
      "metadata": {
        "id": "aSNpiWUDlxuy",
        "colab_type": "code",
        "colab": {
          "base_uri": "https://localhost:8080/",
          "height": 190
        },
        "outputId": "66ea1729-7f20-4ccb-9160-f15e78a8cbcd"
      },
      "source": [
        "num_train = 0\n",
        "num_val = 0\n",
        "num_test = 0\n",
        "for name in class_name:\n",
        "  train_path = os.path.join(train_dir, name)\n",
        "  val_path = os.path.join(validation_dir, name)\n",
        "  test_path = os.path.join(test_dir, name)\n",
        "  print(\"Number of {} class: for train: {} / for validation: {} / for test: {}\".format(name,\n",
        "                                                                len(os.listdir(train_path)),\n",
        "                                                                len(os.listdir(val_path)),\n",
        "                                                                len(os.listdir(train_path))))\n",
        "  num_train += len(os.listdir(train_path))\n",
        "  num_val += len(os.listdir(val_path))\n",
        "  num_test += len(os.listdir(test_path))\n",
        "\n",
        "print('--------')\n",
        "print(\"Total training images:\", num_train)\n",
        "print(\"Total validation images:\", num_val)\n",
        "print(\"Total test images:\", num_test)"
      ],
      "execution_count": 11,
      "outputs": [
        {
          "output_type": "stream",
          "text": [
            "Number of daisy class: for train: 534 / for validation: 32 / for test: 534\n",
            "Number of dandelion class: for train: 717 / for validation: 61 / for test: 717\n",
            "Number of roses class: for train: 539 / for validation: 23 / for test: 539\n",
            "Number of sunflowers class: for train: 577 / for validation: 27 / for test: 577\n",
            "Number of tulips class: for train: 642 / for validation: 49 / for test: 642\n",
            "--------\n",
            "Total training images: 3009\n",
            "Total validation images: 192\n",
            "Total test images: 469\n"
          ],
          "name": "stdout"
        }
      ]
    },
    {
      "cell_type": "code",
      "metadata": {
        "id": "62fQLSMil1Wq",
        "colab_type": "code",
        "colab": {}
      },
      "source": [
        "batch_size = 512"
      ],
      "execution_count": 0,
      "outputs": []
    },
    {
      "cell_type": "code",
      "metadata": {
        "id": "OzfzVHHdl3Gw",
        "colab_type": "code",
        "colab": {}
      },
      "source": [
        "train_datagen = ImageDataGenerator(rescale=1./255,\n",
        "                                   rotation_range=40,\n",
        "                                   width_shift_range=0.2,\n",
        "                                   height_shift_range=0.2,\n",
        "                                   shear_range=0.2,\n",
        "                                   zoom_range=0.2,\n",
        "                                   horizontal_flip=True,\n",
        "                                   fill_mode='nearest')\n",
        "val_datagen = ImageDataGenerator(rescale=1./255)\n",
        "test_datagen = ImageDataGenerator(rescale=1./255)"
      ],
      "execution_count": 0,
      "outputs": []
    },
    {
      "cell_type": "code",
      "metadata": {
        "id": "CL6lw9pRl3s_",
        "colab_type": "code",
        "colab": {
          "base_uri": "https://localhost:8080/",
          "height": 34
        },
        "outputId": "901981eb-f500-4210-b4ee-21e115a092cf"
      },
      "source": [
        "train_generator = train_datagen.flow_from_directory(train_dir,\n",
        "                                                    target_size=(150, 150),\n",
        "                                                    batch_size=batch_size,\n",
        "                                                    class_mode='categorical')"
      ],
      "execution_count": 23,
      "outputs": [
        {
          "output_type": "stream",
          "text": [
            "Found 3009 images belonging to 5 classes.\n"
          ],
          "name": "stdout"
        }
      ]
    },
    {
      "cell_type": "code",
      "metadata": {
        "id": "mJPxSHh3l7mT",
        "colab_type": "code",
        "colab": {
          "base_uri": "https://localhost:8080/",
          "height": 34
        },
        "outputId": "7a3aa365-bdb0-4183-e22e-3a4cdbc3fcd7"
      },
      "source": [
        "val_generator = val_datagen.flow_from_directory(validation_dir,\n",
        "                                                target_size=(150, 150),\n",
        "                                                batch_size=batch_size,\n",
        "                                                class_mode='categorical')"
      ],
      "execution_count": 24,
      "outputs": [
        {
          "output_type": "stream",
          "text": [
            "Found 192 images belonging to 5 classes.\n"
          ],
          "name": "stdout"
        }
      ]
    },
    {
      "cell_type": "code",
      "metadata": {
        "id": "Np-5uvfxl7p7",
        "colab_type": "code",
        "colab": {
          "base_uri": "https://localhost:8080/",
          "height": 34
        },
        "outputId": "692f0e2e-79f9-486b-f95a-5126f9c3f944"
      },
      "source": [
        "test_generator = test_datagen.flow_from_directory(test_dir,\n",
        "                                                  target_size=(150, 150),\n",
        "                                                  batch_size=batch_size,\n",
        "                                                  class_mode='categorical')"
      ],
      "execution_count": 25,
      "outputs": [
        {
          "output_type": "stream",
          "text": [
            "Found 469 images belonging to 5 classes.\n"
          ],
          "name": "stdout"
        }
      ]
    },
    {
      "cell_type": "code",
      "metadata": {
        "id": "XwnPD2Wal7s_",
        "colab_type": "code",
        "colab": {}
      },
      "source": [
        "model.compile(optimizer='adam',\n",
        "              loss='categorical_crossentropy',\n",
        "              metrics=['accuracy'])"
      ],
      "execution_count": 0,
      "outputs": []
    },
    {
      "cell_type": "code",
      "metadata": {
        "id": "obNfLhr3l7vx",
        "colab_type": "code",
        "colab": {}
      },
      "source": [
        "reduce_lr = ReduceLROnPlateau(monitor='val_loss', factor=0.2,\n",
        "                              patience=5, min_lr=0.001)\n",
        "early_stopping = tf.keras.callbacks.EarlyStopping(monitor='val_acc', patience=3)"
      ],
      "execution_count": 0,
      "outputs": []
    },
    {
      "cell_type": "code",
      "metadata": {
        "id": "nq7M3PMCmHDq",
        "colab_type": "code",
        "colab": {
          "base_uri": "https://localhost:8080/",
          "height": 343
        },
        "outputId": "a12befad-2f39-487b-80f3-ebcb1991506c"
      },
      "source": [
        "epoch = 10\n",
        "\n",
        "history = model.fit_generator(\n",
        "    train_generator,\n",
        "    steps_per_epoch=int(np.ceil(num_train / float(batch_size))),\n",
        "    epochs=epoch,\n",
        "    validation_data=val_generator,\n",
        "    validation_steps=int(np.ceil(num_val / float(batch_size))),\n",
        "    callbacks=[reduce_lr, early_stopping]\n",
        ")"
      ],
      "execution_count": 28,
      "outputs": [
        {
          "output_type": "stream",
          "text": [
            "Epoch 1/10\n",
            "6/6 [==============================] - 51s 9s/step - loss: 0.8200 - acc: 0.7029 - val_loss: 0.8222 - val_acc: 0.6302\n",
            "Epoch 2/10\n",
            "6/6 [==============================] - 32s 5s/step - loss: 0.6693 - acc: 0.7484 - val_loss: 0.6596 - val_acc: 0.7500\n",
            "Epoch 3/10\n",
            "6/6 [==============================] - 37s 6s/step - loss: 0.5958 - acc: 0.7827 - val_loss: 0.6521 - val_acc: 0.7604\n",
            "Epoch 4/10\n",
            "6/6 [==============================] - 37s 6s/step - loss: 0.5785 - acc: 0.7906 - val_loss: 0.7043 - val_acc: 0.7552\n",
            "Epoch 5/10\n",
            "6/6 [==============================] - 36s 6s/step - loss: 0.5616 - acc: 0.7913 - val_loss: 0.6349 - val_acc: 0.7708\n",
            "Epoch 6/10\n",
            "6/6 [==============================] - 36s 6s/step - loss: 0.5390 - acc: 0.8089 - val_loss: 0.6298 - val_acc: 0.7865\n",
            "Epoch 7/10\n",
            "6/6 [==============================] - 37s 6s/step - loss: 0.5380 - acc: 0.8076 - val_loss: 0.6215 - val_acc: 0.7812\n",
            "Epoch 8/10\n",
            "6/6 [==============================] - 36s 6s/step - loss: 0.5024 - acc: 0.8215 - val_loss: 0.6712 - val_acc: 0.7865\n",
            "Epoch 9/10\n",
            "6/6 [==============================] - 36s 6s/step - loss: 0.4877 - acc: 0.8269 - val_loss: 0.6403 - val_acc: 0.7812\n"
          ],
          "name": "stdout"
        }
      ]
    },
    {
      "cell_type": "code",
      "metadata": {
        "id": "QRpu6OvBmHGP",
        "colab_type": "code",
        "colab": {
          "base_uri": "https://localhost:8080/",
          "height": 34
        },
        "outputId": "8c0ce3ec-944a-4af1-863b-6eca63aeb260"
      },
      "source": [
        "print(history.history.keys())"
      ],
      "execution_count": 29,
      "outputs": [
        {
          "output_type": "stream",
          "text": [
            "dict_keys(['loss', 'acc', 'val_loss', 'val_acc', 'lr'])\n"
          ],
          "name": "stdout"
        }
      ]
    },
    {
      "cell_type": "code",
      "metadata": {
        "id": "gWMkSxl5OM7b",
        "colab_type": "code",
        "colab": {
          "base_uri": "https://localhost:8080/",
          "height": 513
        },
        "outputId": "03e868e0-5462-4a7c-94e2-3103f6f24e56"
      },
      "source": [
        "acc = history.history['acc']\n",
        "val_acc = history.history['val_acc']\n",
        "\n",
        "loss = history.history['loss']\n",
        "val_loss = history.history['val_loss']\n",
        "\n",
        "plt.figure(figsize=(8, 8))\n",
        "plt.subplot(2, 1, 1)\n",
        "plt.plot(acc, label='Training Accuracy')\n",
        "plt.plot(val_acc, label='Validation Accuracy')\n",
        "plt.legend(loc='lower right')\n",
        "plt.ylabel('Accuracy')\n",
        "plt.ylim([min(plt.ylim()),1])\n",
        "plt.title('Training and Validation Accuracy')\n",
        "\n",
        "plt.subplot(2, 1, 2)\n",
        "plt.plot(loss, label='Training Loss')\n",
        "plt.plot(val_loss, label='Validation Loss')\n",
        "plt.legend(loc='upper right')\n",
        "plt.ylabel('Cross Entropy')\n",
        "plt.ylim([0,1.0])\n",
        "plt.title('Training and Validation Loss')\n",
        "plt.xlabel('epoch')\n",
        "plt.show()\n",
        "\n"
      ],
      "execution_count": 32,
      "outputs": [
        {
          "output_type": "display_data",
          "data": {
            "image/png": "[encoded data removed]",
            "text/plain": [
              "<Figure size 576x576 with 2 Axes>"
            ]
          },
          "metadata": {
            "tags": []
          }
        }
      ]
    },
    {
      "cell_type": "markdown",
      "metadata": {
        "id": "iKy-G5JYOUCE",
        "colab_type": "text"
      },
      "source": [
        "# Un-freeze the top layers of the model"
      ]
    },
    {
      "cell_type": "code",
      "metadata": {
        "id": "a-gemLRgOQaC",
        "colab_type": "code",
        "colab": {}
      },
      "source": [
        "conv_base.trainable = True"
      ],
      "execution_count": 0,
      "outputs": []
    },
    {
      "cell_type": "code",
      "metadata": {
        "id": "xlB7y0-6OXCU",
        "colab_type": "code",
        "colab": {
          "base_uri": "https://localhost:8080/",
          "height": 34
        },
        "outputId": "f6071644-db3b-4f3a-b496-9d1f46cb9e51"
      },
      "source": [
        "# Let's take a look to see how many layers are in the base model\n",
        "print(\"Number of layers in the base model: \", len(conv_base.layers))\n",
        "\n",
        "# Fine tune from this layer onwards\n",
        "fine_tune_at = 4\n",
        "\n",
        "# Freeze all the layers before the `fine_tune_at` layer\n",
        "for layer in conv_base.layers[:fine_tune_at]:\n",
        "  layer.trainable =  False"
      ],
      "execution_count": 39,
      "outputs": [
        {
          "output_type": "stream",
          "text": [
            "Number of layers in the base model:  19\n"
          ],
          "name": "stdout"
        }
      ]
    },
    {
      "cell_type": "code",
      "metadata": {
        "id": "D4ubrQUJOYoD",
        "colab_type": "code",
        "colab": {
          "base_uri": "https://localhost:8080/",
          "height": 289
        },
        "outputId": "3120a39e-3d67-4018-b686-c49ef6688449"
      },
      "source": [
        "model.summary()"
      ],
      "execution_count": 40,
      "outputs": [
        {
          "output_type": "stream",
          "text": [
            "Model: \"sequential\"\n",
            "_________________________________________________________________\n",
            "Layer (type)                 Output Shape              Param #   \n",
            "=================================================================\n",
            "vgg16 (Model)                (None, 4, 4, 512)         14714688  \n",
            "_________________________________________________________________\n",
            "flatten (Flatten)            (None, 8192)              0         \n",
            "_________________________________________________________________\n",
            "dense (Dense)                (None, 256)               2097408   \n",
            "_________________________________________________________________\n",
            "dense_1 (Dense)              (None, 5)                 1285      \n",
            "=================================================================\n",
            "Total params: 16,813,381\n",
            "Trainable params: 2,098,693\n",
            "Non-trainable params: 14,714,688\n",
            "_________________________________________________________________\n"
          ],
          "name": "stdout"
        }
      ]
    },
    {
      "cell_type": "code",
      "metadata": {
        "id": "TzcN3CtNoyXA",
        "colab_type": "code",
        "colab": {
          "base_uri": "https://localhost:8080/",
          "height": 139
        },
        "outputId": "dd9bd78c-ab27-4427-deac-0967ac8790a4"
      },
      "source": [
        "epoch = 3\n",
        "\n",
        "history = model.fit_generator(\n",
        "    train_generator,\n",
        "    steps_per_epoch=int(np.ceil(num_train / float(batch_size))),\n",
        "    epochs=epoch,\n",
        "    validation_data=val_generator,\n",
        "    validation_steps=int(np.ceil(num_val / float(batch_size))),\n",
        "    callbacks=[reduce_lr, early_stopping]\n",
        ")"
      ],
      "execution_count": 41,
      "outputs": [
        {
          "output_type": "stream",
          "text": [
            "Epoch 1/3\n",
            "6/6 [==============================] - 36s 6s/step - loss: 0.4767 - acc: 0.8245 - val_loss: 0.6121 - val_acc: 0.7812\n",
            "Epoch 2/3\n",
            "6/6 [==============================] - 36s 6s/step - loss: 0.4575 - acc: 0.8352 - val_loss: 0.6003 - val_acc: 0.7656\n",
            "Epoch 3/3\n",
            "6/6 [==============================] - 36s 6s/step - loss: 0.4620 - acc: 0.8269 - val_loss: 0.6393 - val_acc: 0.7917\n"
          ],
          "name": "stdout"
        }
      ]
    },
    {
      "cell_type": "code",
      "metadata": {
        "id": "Hb-MGqjwpKFj",
        "colab_type": "code",
        "colab": {}
      },
      "source": [
        "acc += history.history['acc']\n",
        "val_acc += history.history['val_acc']\n",
        "\n",
        "loss += history.history['loss']\n",
        "val_loss += history.history['val_loss']"
      ],
      "execution_count": 0,
      "outputs": []
    },
    {
      "cell_type": "code",
      "metadata": {
        "id": "G_Sgoi2lpTye",
        "colab_type": "code",
        "colab": {
          "base_uri": "https://localhost:8080/",
          "height": 513
        },
        "outputId": "9124b285-43e1-4f8d-bbeb-145471626dbb"
      },
      "source": [
        "initial_epochs = 10 \n",
        "plt.figure(figsize=(8, 8))\n",
        "plt.subplot(2, 1, 1)\n",
        "plt.plot(acc, label='Training Accuracy')\n",
        "plt.plot(val_acc, label='Validation Accuracy')\n",
        "plt.ylim([0.8, 1])\n",
        "plt.plot([initial_epochs-1,initial_epochs-1],\n",
        "          plt.ylim(), label='Start Fine Tuning')\n",
        "plt.legend(loc='lower right')\n",
        "plt.title('Training and Validation Accuracy')\n",
        "\n",
        "plt.subplot(2, 1, 2)\n",
        "plt.plot(loss, label='Training Loss')\n",
        "plt.plot(val_loss, label='Validation Loss')\n",
        "plt.ylim([0, 1.0])\n",
        "plt.plot([initial_epochs-1,initial_epochs-1],\n",
        "         plt.ylim(), label='Start Fine Tuning')\n",
        "plt.legend(loc='upper right')\n",
        "plt.title('Training and Validation Loss')\n",
        "plt.xlabel('epoch')\n",
        "plt.show()"
      ],
      "execution_count": 45,
      "outputs": [
        {
          "output_type": "display_data",
          "data": {
            "image/png": "[encoded data removed]",
            "text/plain": [
              "<Figure size 576x576 with 2 Axes>"
            ]
          },
          "metadata": {
            "tags": []
          }
        }
      ]
    },
    {
      "cell_type": "markdown",
      "metadata": {
        "id": "T9yPBmGipzmu",
        "colab_type": "text"
      },
      "source": [
        "![대체 텍스트](https://www.tensorflow.org/beta/tutorials/images/transfer_learning_files/output_chW103JUItdk_0.png)"
      ]
    },
    {
      "cell_type": "code",
      "metadata": {
        "id": "qKyB-3QQp1i-",
        "colab_type": "code",
        "colab": {}
      },
      "source": [
        ""
      ],
      "execution_count": 0,
      "outputs": []
    }
  ]
}