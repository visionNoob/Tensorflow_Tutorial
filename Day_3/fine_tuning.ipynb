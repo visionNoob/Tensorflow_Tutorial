{
  "nbformat": 4,
  "nbformat_minor": 0,
  "metadata": {
    "colab": {
      "name": "fine_tuning.ipynb",
      "provenance": [],
      "collapsed_sections": [],
      "include_colab_link": true
    },
    "kernelspec": {
      "name": "python3",
      "display_name": "Python 3"
    },
    "accelerator": "GPU"
  },
  "cells": [
    {
      "cell_type": "markdown",
      "metadata": {
        "id": "view-in-github",
        "colab_type": "text"
      },
      "source": [
        "<a href=\"https://colab.research.google.com/github/visionNoob/Tensorflow_Tutorial/blob/master/Day_3/fine_tuning.ipynb\" target=\"_parent\"><img src=\"https://colab.research.google.com/assets/colab-badge.svg\" alt=\"Open In Colab\"/></a>"
      ]
    },
    {
      "cell_type": "code",
      "metadata": {
        "id": "pi8CanaDLuKF",
        "colab_type": "code",
        "outputId": "96260e34-2108-4c35-ac1c-5e6dad37b63d",
        "colab": {
          "base_uri": "https://localhost:8080/",
          "height": 34
        }
      },
      "source": [
        "import os\n",
        "import sys\n",
        "import time\n",
        "import shutil\n",
        "\n",
        "import tensorflow as tf\n",
        "from tensorflow.keras import layers\n",
        "from tensorflow.keras.preprocessing.image import ImageDataGenerator\n",
        "from tensorflow.keras.callbacks import ReduceLROnPlateau\n",
        "from tensorflow.keras import applications\n",
        "\n",
        "import numpy as np\n",
        "import matplotlib.pyplot as plt\n",
        "from IPython.display import clear_output\n",
        "\n",
        "tf.enable_eager_execution()\n",
        "tf.set_random_seed(42)\n",
        "np.random.seed(42)\n",
        "tf.__version__"
      ],
      "execution_count": 0,
      "outputs": [
        {
          "output_type": "execute_result",
          "data": {
            "text/plain": [
              "'1.14.0'"
            ]
          },
          "metadata": {
            "tags": []
          },
          "execution_count": 1
        }
      ]
    },
    {
      "cell_type": "code",
      "metadata": {
        "id": "sz_h9miHMuwW",
        "colab_type": "code",
        "outputId": "80768547-9d0f-4429-c563-bb114f06d91d",
        "colab": {
          "base_uri": "https://localhost:8080/",
          "height": 51
        }
      },
      "source": [
        "conv_base = tf.keras.applications.VGG16(weights='imagenet',\n",
        "                                        include_top=False,\n",
        "                                        input_shape=(64,64,3))"
      ],
      "execution_count": 0,
      "outputs": [
        {
          "output_type": "stream",
          "text": [
            "Downloading data from https://github.com/fchollet/deep-learning-models/releases/download/v0.1/vgg16_weights_tf_dim_ordering_tf_kernels_notop.h5\n",
            "58892288/58889256 [==============================] - 3s 0us/step\n"
          ],
          "name": "stdout"
        }
      ]
    },
    {
      "cell_type": "code",
      "metadata": {
        "id": "YMSEDN1YM0bW",
        "colab_type": "code",
        "outputId": "db256cb5-fb5e-4b58-865d-5a6e60f71de6",
        "colab": {
          "base_uri": "https://localhost:8080/",
          "height": 799
        }
      },
      "source": [
        "conv_base.summary()"
      ],
      "execution_count": 0,
      "outputs": [
        {
          "output_type": "stream",
          "text": [
            "Model: \"vgg16\"\n",
            "_________________________________________________________________\n",
            "Layer (type)                 Output Shape              Param #   \n",
            "=================================================================\n",
            "input_1 (InputLayer)         [(None, 64, 64, 3)]       0         \n",
            "_________________________________________________________________\n",
            "block1_conv1 (Conv2D)        (None, 64, 64, 64)        1792      \n",
            "_________________________________________________________________\n",
            "block1_conv2 (Conv2D)        (None, 64, 64, 64)        36928     \n",
            "_________________________________________________________________\n",
            "block1_pool (MaxPooling2D)   (None, 32, 32, 64)        0         \n",
            "_________________________________________________________________\n",
            "block2_conv1 (Conv2D)        (None, 32, 32, 128)       73856     \n",
            "_________________________________________________________________\n",
            "block2_conv2 (Conv2D)        (None, 32, 32, 128)       147584    \n",
            "_________________________________________________________________\n",
            "block2_pool (MaxPooling2D)   (None, 16, 16, 128)       0         \n",
            "_________________________________________________________________\n",
            "block3_conv1 (Conv2D)        (None, 16, 16, 256)       295168    \n",
            "_________________________________________________________________\n",
            "block3_conv2 (Conv2D)        (None, 16, 16, 256)       590080    \n",
            "_________________________________________________________________\n",
            "block3_conv3 (Conv2D)        (None, 16, 16, 256)       590080    \n",
            "_________________________________________________________________\n",
            "block3_pool (MaxPooling2D)   (None, 8, 8, 256)         0         \n",
            "_________________________________________________________________\n",
            "block4_conv1 (Conv2D)        (None, 8, 8, 512)         1180160   \n",
            "_________________________________________________________________\n",
            "block4_conv2 (Conv2D)        (None, 8, 8, 512)         2359808   \n",
            "_________________________________________________________________\n",
            "block4_conv3 (Conv2D)        (None, 8, 8, 512)         2359808   \n",
            "_________________________________________________________________\n",
            "block4_pool (MaxPooling2D)   (None, 4, 4, 512)         0         \n",
            "_________________________________________________________________\n",
            "block5_conv1 (Conv2D)        (None, 4, 4, 512)         2359808   \n",
            "_________________________________________________________________\n",
            "block5_conv2 (Conv2D)        (None, 4, 4, 512)         2359808   \n",
            "_________________________________________________________________\n",
            "block5_conv3 (Conv2D)        (None, 4, 4, 512)         2359808   \n",
            "_________________________________________________________________\n",
            "block5_pool (MaxPooling2D)   (None, 2, 2, 512)         0         \n",
            "=================================================================\n",
            "Total params: 14,714,688\n",
            "Trainable params: 14,714,688\n",
            "Non-trainable params: 0\n",
            "_________________________________________________________________\n"
          ],
          "name": "stdout"
        }
      ]
    },
    {
      "cell_type": "code",
      "metadata": {
        "id": "ytcM0V5AN2Gd",
        "colab_type": "code",
        "outputId": "981b6cf9-4ec8-4b0c-ec81-b61501f77f22",
        "colab": {
          "base_uri": "https://localhost:8080/",
          "height": 289
        }
      },
      "source": [
        "model = tf.keras.Sequential()\n",
        "model.add(conv_base)\n",
        "model.add(tf.keras.layers.Flatten())\n",
        "model.add(tf.keras.layers.Dense(256, activation='relu'))\n",
        "model.add(tf.keras.layers.Dense(5, activation='softmax'))\n",
        "\n",
        "model.summary()"
      ],
      "execution_count": 0,
      "outputs": [
        {
          "output_type": "stream",
          "text": [
            "Model: \"sequential\"\n",
            "_________________________________________________________________\n",
            "Layer (type)                 Output Shape              Param #   \n",
            "=================================================================\n",
            "vgg16 (Model)                (None, 2, 2, 512)         14714688  \n",
            "_________________________________________________________________\n",
            "flatten (Flatten)            (None, 2048)              0         \n",
            "_________________________________________________________________\n",
            "dense (Dense)                (None, 256)               524544    \n",
            "_________________________________________________________________\n",
            "dense_1 (Dense)              (None, 5)                 1285      \n",
            "=================================================================\n",
            "Total params: 15,240,517\n",
            "Trainable params: 15,240,517\n",
            "Non-trainable params: 0\n",
            "_________________________________________________________________\n"
          ],
          "name": "stdout"
        }
      ]
    },
    {
      "cell_type": "code",
      "metadata": {
        "id": "tEGevmcniDSi",
        "colab_type": "code",
        "outputId": "61acfcef-ab74-47e4-da36-897e9bbb17cb",
        "colab": {
          "base_uri": "https://localhost:8080/",
          "height": 85
        }
      },
      "source": [
        "# Freeze vgg16 conv base part (means that trainable option is False)\n",
        "for layer in model.layers:\n",
        "  if layer.name == 'vgg16':\n",
        "    layer.trainable = False\n",
        "  print(\"variable name: {}, trainable: {}\".format(layer.name, layer.trainable))\n",
        "\n",
        "# also \n",
        "#conv_base.trainable = False"
      ],
      "execution_count": 0,
      "outputs": [
        {
          "output_type": "stream",
          "text": [
            "variable name: vgg16, trainable: False\n",
            "variable name: flatten, trainable: True\n",
            "variable name: dense, trainable: True\n",
            "variable name: dense_1, trainable: True\n"
          ],
          "name": "stdout"
        }
      ]
    },
    {
      "cell_type": "code",
      "metadata": {
        "id": "zsoDx_TrlnUq",
        "colab_type": "code",
        "outputId": "44072a54-53f4-454e-cc67-86a7b53354b9",
        "colab": {
          "base_uri": "https://localhost:8080/",
          "height": 51
        }
      },
      "source": [
        "# I upload zip file on my dropbox\n",
        "# if you want to download from my dropbox uncomment below  \n",
        "DATASET_PATH='./flower'\n",
        "  \n",
        "if not os.path.isdir(DATASET_PATH):\n",
        "  os.makedirs(DATASET_PATH)\n",
        "  \n",
        "  import urllib.request\n",
        "  u = urllib.request.urlopen(url='https://www.dropbox.com/s/1tqczockfgdnz8z/flower.zip?dl=1')\n",
        "  data = u.read()\n",
        "  u.close()\n",
        " \n",
        "  with open('flower.zip', \"wb\") as f :\n",
        "    f.write(data)\n",
        "  print('Data has been downloaded')\n",
        "  \n",
        "  shutil.move(os.path.join('flower.zip'), os.path.join(DATASET_PATH))\n",
        "  file_path = os.path.join(DATASET_PATH, 'flower.zip')\n",
        "  \n",
        "  import zipfile\n",
        "  zip_ref = zipfile.ZipFile(file_path, 'r')\n",
        "  zip_ref.extractall(DATASET_PATH)\n",
        "  zip_ref.close()\n",
        "  print('Data has been extracted.')\n",
        "  \n",
        "else:\n",
        "  print('Data has already been downloaded and extracted.')"
      ],
      "execution_count": 0,
      "outputs": [
        {
          "output_type": "stream",
          "text": [
            "Data has been downloaded\n",
            "Data has been extracted.\n"
          ],
          "name": "stdout"
        }
      ]
    },
    {
      "cell_type": "code",
      "metadata": {
        "id": "XDQK0gkdluL9",
        "colab_type": "code",
        "outputId": "7e7371a8-0b40-41d8-ad2d-d11bad3e7ed3",
        "colab": {
          "base_uri": "https://localhost:8080/",
          "height": 68
        }
      },
      "source": [
        "base_dir = os.path.join(DATASET_PATH, 'flower')\n",
        "\n",
        "train_dir = os.path.join(base_dir, 'train')\n",
        "validation_dir = os.path.join(base_dir, 'validation')\n",
        "test_dir = os.path.join(base_dir, 'test')\n",
        "\n",
        "print(train_dir)\n",
        "print(validation_dir)\n",
        "print(test_dir)"
      ],
      "execution_count": 0,
      "outputs": [
        {
          "output_type": "stream",
          "text": [
            "./flower/flower/train\n",
            "./flower/flower/validation\n",
            "./flower/flower/test\n"
          ],
          "name": "stdout"
        }
      ]
    },
    {
      "cell_type": "code",
      "metadata": {
        "id": "ii6ys0wtlwO3",
        "colab_type": "code",
        "outputId": "16e24ec3-6b34-40cd-edf7-68827844d6d2",
        "colab": {
          "base_uri": "https://localhost:8080/",
          "height": 102
        }
      },
      "source": [
        "class_name = sorted(os.listdir(train_dir))\n",
        "for name in class_name:\n",
        "  print(name)"
      ],
      "execution_count": 0,
      "outputs": [
        {
          "output_type": "stream",
          "text": [
            "daisy\n",
            "dandelion\n",
            "roses\n",
            "sunflowers\n",
            "tulips\n"
          ],
          "name": "stdout"
        }
      ]
    },
    {
      "cell_type": "code",
      "metadata": {
        "id": "aSNpiWUDlxuy",
        "colab_type": "code",
        "outputId": "015cb847-a58a-4720-f4e0-f2aeb1b2e71d",
        "colab": {
          "base_uri": "https://localhost:8080/",
          "height": 170
        }
      },
      "source": [
        "num_train = 0\n",
        "num_val = 0\n",
        "num_test = 0\n",
        "for name in class_name:\n",
        "  train_path = os.path.join(train_dir, name)\n",
        "  val_path = os.path.join(validation_dir, name)\n",
        "  test_path = os.path.join(test_dir, name)\n",
        "  print(\"Number of {} class: for train: {} / for validation: {} / for test: {}\".format(name,\n",
        "                                                                len(os.listdir(train_path)),\n",
        "                                                                len(os.listdir(val_path)),\n",
        "                                                                len(os.listdir(train_path))))\n",
        "  num_train += len(os.listdir(train_path))\n",
        "  num_val += len(os.listdir(val_path))\n",
        "  num_test += len(os.listdir(test_path))\n",
        "\n",
        "print('--------')\n",
        "print(\"Total training images:\", num_train)\n",
        "print(\"Total validation images:\", num_val)\n",
        "print(\"Total test images:\", num_test)"
      ],
      "execution_count": 0,
      "outputs": [
        {
          "output_type": "stream",
          "text": [
            "Number of daisy class: for train: 534 / for validation: 32 / for test: 534\n",
            "Number of dandelion class: for train: 717 / for validation: 61 / for test: 717\n",
            "Number of roses class: for train: 539 / for validation: 23 / for test: 539\n",
            "Number of sunflowers class: for train: 577 / for validation: 27 / for test: 577\n",
            "Number of tulips class: for train: 642 / for validation: 49 / for test: 642\n",
            "--------\n",
            "Total training images: 3009\n",
            "Total validation images: 192\n",
            "Total test images: 469\n"
          ],
          "name": "stdout"
        }
      ]
    },
    {
      "cell_type": "code",
      "metadata": {
        "id": "62fQLSMil1Wq",
        "colab_type": "code",
        "colab": {}
      },
      "source": [
        "batch_size = 64"
      ],
      "execution_count": 0,
      "outputs": []
    },
    {
      "cell_type": "code",
      "metadata": {
        "id": "OzfzVHHdl3Gw",
        "colab_type": "code",
        "colab": {}
      },
      "source": [
        "train_datagen = ImageDataGenerator(preprocessing_function = tf.keras.applications.vgg16.preprocess_input,\n",
        "                                   rotation_range=40,\n",
        "                                   width_shift_range=0.2,\n",
        "                                   height_shift_range=0.2,\n",
        "                                   shear_range=0.2,\n",
        "                                   zoom_range=0.2,\n",
        "                                   horizontal_flip=True,\n",
        "                                   fill_mode='nearest')\n",
        "val_datagen = ImageDataGenerator(preprocessing_function = tf.keras.applications.vgg16.preprocess_input)\n",
        "test_datagen = ImageDataGenerator(preprocessing_function = tf.keras.applications.vgg16.preprocess_input)"
      ],
      "execution_count": 0,
      "outputs": []
    },
    {
      "cell_type": "code",
      "metadata": {
        "id": "CL6lw9pRl3s_",
        "colab_type": "code",
        "outputId": "8cb02745-153c-48e4-a1a5-b05b341031c9",
        "colab": {
          "base_uri": "https://localhost:8080/",
          "height": 34
        }
      },
      "source": [
        "train_generator = train_datagen.flow_from_directory(train_dir,\n",
        "                                                    target_size=(64, 64),\n",
        "                                                    batch_size=batch_size,\n",
        "                                                    class_mode='categorical')"
      ],
      "execution_count": 0,
      "outputs": [
        {
          "output_type": "stream",
          "text": [
            "Found 3009 images belonging to 5 classes.\n"
          ],
          "name": "stdout"
        }
      ]
    },
    {
      "cell_type": "code",
      "metadata": {
        "id": "mJPxSHh3l7mT",
        "colab_type": "code",
        "outputId": "213a2fe8-2125-4a35-cef1-4c8d737c3052",
        "colab": {
          "base_uri": "https://localhost:8080/",
          "height": 34
        }
      },
      "source": [
        "val_generator = val_datagen.flow_from_directory(validation_dir,\n",
        "                                                target_size=(64, 64),\n",
        "                                                batch_size=batch_size,\n",
        "                                                class_mode='categorical')"
      ],
      "execution_count": 0,
      "outputs": [
        {
          "output_type": "stream",
          "text": [
            "Found 192 images belonging to 5 classes.\n"
          ],
          "name": "stdout"
        }
      ]
    },
    {
      "cell_type": "code",
      "metadata": {
        "id": "Np-5uvfxl7p7",
        "colab_type": "code",
        "outputId": "e1e167f3-5042-40b6-9e12-7107dba0fe81",
        "colab": {
          "base_uri": "https://localhost:8080/",
          "height": 34
        }
      },
      "source": [
        "test_generator = test_datagen.flow_from_directory(test_dir,\n",
        "                                                  target_size=(64, 64),\n",
        "                                                  batch_size=batch_size,\n",
        "                                                  class_mode='categorical')"
      ],
      "execution_count": 0,
      "outputs": [
        {
          "output_type": "stream",
          "text": [
            "Found 469 images belonging to 5 classes.\n"
          ],
          "name": "stdout"
        }
      ]
    },
    {
      "cell_type": "code",
      "metadata": {
        "id": "XwnPD2Wal7s_",
        "colab_type": "code",
        "colab": {}
      },
      "source": [
        "model.compile(optimizer='adam',\n",
        "              loss='categorical_crossentropy',\n",
        "              metrics=['accuracy'])"
      ],
      "execution_count": 0,
      "outputs": []
    },
    {
      "cell_type": "code",
      "metadata": {
        "id": "obNfLhr3l7vx",
        "colab_type": "code",
        "colab": {}
      },
      "source": [
        "reduce_lr = ReduceLROnPlateau(monitor='val_loss', factor=0.2,\n",
        "                              patience=5, min_lr=0.001)\n",
        "early_stopping = tf.keras.callbacks.EarlyStopping(monitor='val_acc', patience=3)"
      ],
      "execution_count": 0,
      "outputs": []
    },
    {
      "cell_type": "code",
      "metadata": {
        "id": "nq7M3PMCmHDq",
        "colab_type": "code",
        "outputId": "419fefe3-bafa-44e1-f094-2ff4201e6f4d",
        "colab": {
          "base_uri": "https://localhost:8080/",
          "height": 326
        }
      },
      "source": [
        "epoch = 10\n",
        "\n",
        "history = model.fit_generator(\n",
        "    train_generator,\n",
        "    steps_per_epoch=int(np.ceil(num_train / float(batch_size))),\n",
        "    epochs=epoch,\n",
        "    validation_data=val_generator,\n",
        "    validation_steps=int(np.ceil(num_val / float(batch_size))),\n",
        "    callbacks=[reduce_lr, early_stopping]\n",
        ")"
      ],
      "execution_count": 0,
      "outputs": [
        {
          "output_type": "stream",
          "text": [
            "Epoch 1/10\n",
            "WARNING:tensorflow:From /usr/local/lib/python3.6/dist-packages/tensorflow/python/ops/math_grad.py:1250: add_dispatch_support.<locals>.wrapper (from tensorflow.python.ops.array_ops) is deprecated and will be removed in a future version.\n",
            "Instructions for updating:\n",
            "Use tf.where in 2.0, which has the same broadcast rule as np.where\n",
            "48/48 [==============================] - 18s 374ms/step - loss: 6.0689 - acc: 0.5407 - val_loss: 5.3599 - val_acc: 0.5938\n",
            "Epoch 2/10\n",
            "48/48 [==============================] - 15s 316ms/step - loss: 4.4905 - acc: 0.6570 - val_loss: 4.1023 - val_acc: 0.6615\n",
            "Epoch 3/10\n",
            "48/48 [==============================] - 15s 306ms/step - loss: 4.1798 - acc: 0.6982 - val_loss: 3.9186 - val_acc: 0.7031\n",
            "Epoch 4/10\n",
            "48/48 [==============================] - 15s 312ms/step - loss: 3.6108 - acc: 0.7192 - val_loss: 3.4323 - val_acc: 0.7240\n",
            "Epoch 5/10\n",
            "48/48 [==============================] - 15s 310ms/step - loss: 3.3812 - acc: 0.7355 - val_loss: 3.3582 - val_acc: 0.7031\n",
            "Epoch 6/10\n",
            "48/48 [==============================] - 14s 302ms/step - loss: 2.8525 - acc: 0.7394 - val_loss: 2.6279 - val_acc: 0.7031\n",
            "Epoch 7/10\n",
            "48/48 [==============================] - 15s 304ms/step - loss: 1.6824 - acc: 0.7611 - val_loss: 1.8009 - val_acc: 0.6823\n"
          ],
          "name": "stdout"
        }
      ]
    },
    {
      "cell_type": "code",
      "metadata": {
        "id": "QRpu6OvBmHGP",
        "colab_type": "code",
        "outputId": "804c5a3d-54e2-4267-b1cf-eeacb4eab869",
        "colab": {
          "base_uri": "https://localhost:8080/",
          "height": 34
        }
      },
      "source": [
        "print(history.history.keys())"
      ],
      "execution_count": 0,
      "outputs": [
        {
          "output_type": "stream",
          "text": [
            "dict_keys(['loss', 'acc', 'val_loss', 'val_acc', 'lr'])\n"
          ],
          "name": "stdout"
        }
      ]
    },
    {
      "cell_type": "code",
      "metadata": {
        "id": "gWMkSxl5OM7b",
        "colab_type": "code",
        "outputId": "5f6eba89-9a86-472e-a8cd-4676377931f6",
        "colab": {
          "base_uri": "https://localhost:8080/",
          "height": 513
        }
      },
      "source": [
        "acc = history.history['acc']\n",
        "val_acc = history.history['val_acc']\n",
        "\n",
        "loss = history.history['loss']\n",
        "val_loss = history.history['val_loss']\n",
        "\n",
        "plt.figure(figsize=(8, 8))\n",
        "plt.subplot(2, 1, 1)\n",
        "plt.plot(acc, label='Training Accuracy')\n",
        "plt.plot(val_acc, label='Validation Accuracy')\n",
        "plt.legend(loc='lower right')\n",
        "plt.ylabel('Accuracy')\n",
        "plt.ylim([min(plt.ylim()),1])\n",
        "plt.title('Training and Validation Accuracy')\n",
        "\n",
        "plt.subplot(2, 1, 2)\n",
        "plt.plot(loss, label='Training Loss')\n",
        "plt.plot(val_loss, label='Validation Loss')\n",
        "plt.legend(loc='upper right')\n",
        "plt.ylabel('Cross Entropy')\n",
        "plt.ylim([0,7.0])\n",
        "plt.title('Training and Validation Loss')\n",
        "plt.xlabel('epoch')\n",
        "plt.show()\n",
        "\n"
      ],
      "execution_count": 0,
      "outputs": [
        {
          "output_type": "display_data",
          "data": {
            "image/png": "[encoded data removed]",
            "text/plain": [
              "<Figure size 576x576 with 2 Axes>"
            ]
          },
          "metadata": {
            "tags": []
          }
        }
      ]
    },
    {
      "cell_type": "markdown",
      "metadata": {
        "id": "iKy-G5JYOUCE",
        "colab_type": "text"
      },
      "source": [
        "# Un-freeze the top layers of the model"
      ]
    },
    {
      "cell_type": "code",
      "metadata": {
        "id": "a-gemLRgOQaC",
        "colab_type": "code",
        "colab": {}
      },
      "source": [
        "conv_base.trainable = True"
      ],
      "execution_count": 0,
      "outputs": []
    },
    {
      "cell_type": "code",
      "metadata": {
        "id": "xlB7y0-6OXCU",
        "colab_type": "code",
        "outputId": "85fe2afc-c579-4786-ed86-377ce2b94ed7",
        "colab": {
          "base_uri": "https://localhost:8080/",
          "height": 34
        }
      },
      "source": [
        "# Let's take a look to see how many layers are in the base model\n",
        "print(\"Number of layers in the base model: \", len(conv_base.layers))\n",
        "\n",
        "# Fine tune from this layer onwards\n",
        "fine_tune_at = 4\n",
        "\n",
        "# Freeze all the layers before the `fine_tune_at` layer\n",
        "for layer in conv_base.layers[:fine_tune_at]:\n",
        "  layer.trainable =  False"
      ],
      "execution_count": 0,
      "outputs": [
        {
          "output_type": "stream",
          "text": [
            "Number of layers in the base model:  19\n"
          ],
          "name": "stdout"
        }
      ]
    },
    {
      "cell_type": "code",
      "metadata": {
        "id": "D4ubrQUJOYoD",
        "colab_type": "code",
        "outputId": "4db256dc-b95f-497f-a613-0b52c38ba501",
        "colab": {
          "base_uri": "https://localhost:8080/",
          "height": 326
        }
      },
      "source": [
        "model.summary()"
      ],
      "execution_count": 0,
      "outputs": [
        {
          "output_type": "stream",
          "text": [
            "Model: \"sequential\"\n",
            "_________________________________________________________________\n",
            "Layer (type)                 Output Shape              Param #   \n",
            "=================================================================\n",
            "vgg16 (Model)                (None, 2, 2, 512)         14714688  \n",
            "_________________________________________________________________\n",
            "flatten (Flatten)            (None, 2048)              0         \n",
            "_________________________________________________________________\n",
            "dense (Dense)                (None, 256)               524544    \n",
            "_________________________________________________________________\n",
            "dense_1 (Dense)              (None, 5)                 1285      \n",
            "=================================================================\n",
            "WARNING:tensorflow:Discrepancy between trainable weights and collected trainable weights, did you set `model.trainable` without calling `model.compile` after ?\n",
            "Total params: 564,549\n",
            "Trainable params: 525,829\n",
            "Non-trainable params: 38,720\n",
            "_________________________________________________________________\n"
          ],
          "name": "stdout"
        }
      ]
    },
    {
      "cell_type": "code",
      "metadata": {
        "id": "TzcN3CtNoyXA",
        "colab_type": "code",
        "outputId": "8a0679f7-e452-4de5-ffba-79e086296212",
        "colab": {
          "base_uri": "https://localhost:8080/",
          "height": 156
        }
      },
      "source": [
        "epoch = 3\n",
        "\n",
        "history = model.fit_generator(\n",
        "    train_generator,\n",
        "    steps_per_epoch=int(np.ceil(num_train / float(batch_size))),\n",
        "    epochs=epoch,\n",
        "    validation_data=val_generator,\n",
        "    validation_steps=int(np.ceil(num_val / float(batch_size))),\n",
        "    callbacks=[reduce_lr, early_stopping]\n",
        ")"
      ],
      "execution_count": 0,
      "outputs": [
        {
          "output_type": "stream",
          "text": [
            "Epoch 1/3\n",
            "WARNING:tensorflow:Discrepancy between trainable weights and collected trainable weights, did you set `model.trainable` without calling `model.compile` after ?\n",
            "48/48 [==============================] - 16s 332ms/step - loss: 1.1205 - acc: 0.7434 - val_loss: 1.3925 - val_acc: 0.6979\n",
            "Epoch 2/3\n",
            "48/48 [==============================] - 15s 318ms/step - loss: 0.7960 - acc: 0.7687 - val_loss: 1.3410 - val_acc: 0.7083\n",
            "Epoch 3/3\n",
            "48/48 [==============================] - 15s 317ms/step - loss: 0.7004 - acc: 0.7780 - val_loss: 1.1307 - val_acc: 0.6979\n"
          ],
          "name": "stdout"
        }
      ]
    },
    {
      "cell_type": "code",
      "metadata": {
        "id": "Hb-MGqjwpKFj",
        "colab_type": "code",
        "colab": {}
      },
      "source": [
        "acc += history.history['acc']\n",
        "val_acc += history.history['val_acc']\n",
        "\n",
        "loss += history.history['loss']\n",
        "val_loss += history.history['val_loss']"
      ],
      "execution_count": 0,
      "outputs": []
    },
    {
      "cell_type": "code",
      "metadata": {
        "id": "G_Sgoi2lpTye",
        "colab_type": "code",
        "outputId": "e7614553-977d-4344-ecf3-76e8f9a5405b",
        "colab": {
          "base_uri": "https://localhost:8080/",
          "height": 513
        }
      },
      "source": [
        "initial_epochs = 7\n",
        "plt.figure(figsize=(8, 8))\n",
        "plt.subplot(2, 1, 1)\n",
        "plt.plot(acc, label='Training Accuracy')\n",
        "plt.plot(val_acc, label='Validation Accuracy')\n",
        "plt.ylim([0.5, 1])\n",
        "plt.plot([initial_epochs-1,initial_epochs-1],\n",
        "          plt.ylim(), label='Start Fine Tuning')\n",
        "plt.legend(loc='lower right')\n",
        "plt.title('Training and Validation Accuracy')\n",
        "\n",
        "plt.subplot(2, 1, 2)\n",
        "plt.plot(loss, label='Training Loss')\n",
        "plt.plot(val_loss, label='Validation Loss')\n",
        "plt.ylim([0, 10.0])\n",
        "plt.plot([initial_epochs-1,initial_epochs-1],\n",
        "         plt.ylim(), label='Start Fine Tuning')\n",
        "plt.legend(loc='upper right')\n",
        "plt.title('Training and Validation Loss')\n",
        "plt.xlabel('epoch')\n",
        "plt.show()"
      ],
      "execution_count": 0,
      "outputs": [
        {
          "output_type": "display_data",
          "data": {
            "image/png": "[encoded data removed]",
            "text/plain": [
              "<Figure size 576x576 with 2 Axes>"
            ]
          },
          "metadata": {
            "tags": []
          }
        }
      ]
    },
    {
      "cell_type": "markdown",
      "metadata": {
        "id": "T9yPBmGipzmu",
        "colab_type": "text"
      },
      "source": [
        "![대체 텍스트](https://www.tensorflow.org/beta/tutorials/images/transfer_learning_files/output_chW103JUItdk_0.png)"
      ]
    },
    {
      "cell_type": "code",
      "metadata": {
        "id": "qKyB-3QQp1i-",
        "colab_type": "code",
        "colab": {}
      },
      "source": [
        ""
      ],
      "execution_count": 0,
      "outputs": []
    }
  ]
}