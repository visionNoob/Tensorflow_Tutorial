{
  "nbformat": 4,
  "nbformat_minor": 0,
  "metadata": {
    "accelerator": "GPU",
    "colab": {
      "name": "07 - DNN with dropout.ipynb",
      "provenance": [],
      "collapsed_sections": [],
      "include_colab_link": true
    },
    "kernelspec": {
      "name": "python3",
      "display_name": "Python 3"
    },
    "language_info": {
      "codemirror_mode": {
        "name": "ipython",
        "version": 3
      },
      "file_extension": ".py",
      "mimetype": "text/x-python",
      "name": "python",
      "nbconvert_exporter": "python",
      "pygments_lexer": "ipython3",
      "version": "3.6.7"
    }
  },
  "cells": [
    {
      "cell_type": "markdown",
      "metadata": {
        "id": "view-in-github",
        "colab_type": "text"
      },
      "source": [
        "<a href=\"https://colab.research.google.com/github/visionNoob/Tensorflow_Tutorial/blob/master/Day_2/07%20-%20DNN%20with%20dropout.ipynb\" target=\"_parent\"><img src=\"https://colab.research.google.com/assets/colab-badge.svg\" alt=\"Open In Colab\"/></a>"
      ]
    },
    {
      "cell_type": "code",
      "metadata": {
        "colab_type": "code",
        "id": "9JutkdoS4X-A",
        "colab": {
          "base_uri": "https://localhost:8080/",
          "height": 34
        },
        "outputId": "ea4bda99-a85f-4f56-c350-cb26a4103502"
      },
      "source": [
        "import tensorflow as tf\n",
        "from tensorflow.keras import layers\n",
        "\n",
        "from sklearn.model_selection import train_test_split\n",
        "\n",
        "import numpy as np\n",
        "import matplotlib.pyplot as plt\n",
        "\n",
        "tf.enable_eager_execution()\n",
        "tf.debugging.set_log_device_placement(True)\n",
        "tf.set_random_seed(42)\n",
        "np.random.seed(42)\n",
        "tf.__version__"
      ],
      "execution_count": 20,
      "outputs": [
        {
          "output_type": "execute_result",
          "data": {
            "text/plain": [
              "'1.14.0'"
            ]
          },
          "metadata": {
            "tags": []
          },
          "execution_count": 20
        }
      ]
    },
    {
      "cell_type": "markdown",
      "metadata": {
        "id": "-Ggj2uygiqgv",
        "colab_type": "text"
      },
      "source": [
        "# Dataset\n"
      ]
    },
    {
      "cell_type": "code",
      "metadata": {
        "colab_type": "code",
        "id": "E16_5FTBccOA",
        "colab": {}
      },
      "source": [
        "# Load training and eval data from tf.keras\n",
        "(train_data, train_labels), (test_data, test_labels) = \\\n",
        "    tf.keras.datasets.mnist.load_data()\n",
        "\n",
        "train_data, valid_data, train_labels, valid_labels = \\\n",
        "    train_test_split(train_data, train_labels, test_size=0.1, shuffle=True)\n",
        "\n",
        "train_data = train_data / 255.\n",
        "train_data = train_data.reshape(-1, 784)\n",
        "train_data = train_data.astype(np.float32)\n",
        "train_labels = train_labels.astype(np.int32)\n",
        "\n",
        "valid_data = valid_data / 255.\n",
        "valid_data = valid_data.reshape(-1, 784)\n",
        "valid_data = valid_data.astype(np.float32)\n",
        "valid_labels = valid_labels.astype(np.int32)\n",
        "\n",
        "test_data = test_data / 255.\n",
        "test_data = test_data.reshape(-1, 784)\n",
        "test_data = test_data.astype(np.float32)\n",
        "test_labels = test_labels.astype(np.int32)\n"
      ],
      "execution_count": 0,
      "outputs": []
    },
    {
      "cell_type": "code",
      "metadata": {
        "id": "QCgrTVi7iqgx",
        "colab_type": "code",
        "colab": {}
      },
      "source": [
        "def one_hot_label(image, label):\n",
        "  label = tf.one_hot(label, depth=10)\n",
        "  return image, label"
      ],
      "execution_count": 0,
      "outputs": []
    },
    {
      "cell_type": "code",
      "metadata": {
        "id": "W3WOZZe6iqgz",
        "colab_type": "code",
        "colab": {
          "base_uri": "https://localhost:8080/",
          "height": 238
        },
        "outputId": "2302866a-6689-4bb0-a709-99f9328a3e08"
      },
      "source": [
        "batch_size = 512\n",
        "max_epochs = 10\n",
        "\n",
        "# for train\n",
        "N = len(train_data)\n",
        "train_dataset = tf.data.Dataset.from_tensor_slices((train_data, train_labels))\n",
        "train_dataset = train_dataset.shuffle(buffer_size=10000)\n",
        "train_dataset = train_dataset.map(one_hot_label)\n",
        "train_dataset = train_dataset.repeat().batch(batch_size=batch_size)\n",
        "print(train_dataset)\n",
        "\n",
        "# for valid\n",
        "valid_dataset = tf.data.Dataset.from_tensor_slices((valid_data, valid_labels))\n",
        "valid_dataset = valid_dataset.map(one_hot_label)\n",
        "valid_dataset = valid_dataset.repeat().batch(batch_size=batch_size)\n",
        "print(valid_dataset)\n",
        "\n",
        "# for test\n",
        "test_dataset = tf.data.Dataset.from_tensor_slices((test_data, test_labels))\n",
        "test_dataset = test_dataset.map(one_hot_label)\n",
        "test_dataset = test_dataset.repeat().batch(batch_size=batch_size)\n",
        "print(test_dataset)\n"
      ],
      "execution_count": 23,
      "outputs": [
        {
          "output_type": "stream",
          "text": [
            "Executing op TensorSliceDataset in device /job:localhost/replica:0/task:0/device:CPU:0\n",
            "Executing op Equal in device /job:localhost/replica:0/task:0/device:GPU:0\n",
            "Executing op LogicalAnd in device /job:localhost/replica:0/task:0/device:GPU:0\n",
            "Executing op Select in device /job:localhost/replica:0/task:0/device:GPU:0\n",
            "Executing op ShuffleDataset in device /job:localhost/replica:0/task:0/device:CPU:0\n",
            "Executing op MapDataset in device /job:localhost/replica:0/task:0/device:CPU:0\n",
            "Executing op RepeatDataset in device /job:localhost/replica:0/task:0/device:CPU:0\n",
            "Executing op BatchDatasetV2 in device /job:localhost/replica:0/task:0/device:CPU:0\n",
            "<DatasetV1Adapter shapes: ((?, 784), (?, 10)), types: (tf.float32, tf.float32)>\n",
            "Executing op MapDataset in device /job:localhost/replica:0/task:0/device:CPU:0\n",
            "<DatasetV1Adapter shapes: ((?, 784), (?, 10)), types: (tf.float32, tf.float32)>\n",
            "Executing op MapDataset in device /job:localhost/replica:0/task:0/device:CPU:0\n",
            "<DatasetV1Adapter shapes: ((?, 784), (?, 10)), types: (tf.float32, tf.float32)>\n"
          ],
          "name": "stdout"
        }
      ]
    },
    {
      "cell_type": "code",
      "metadata": {
        "colab_type": "code",
        "id": "bSmDlhmrchGa",
        "colab": {
          "base_uri": "https://localhost:8080/",
          "height": 286
        },
        "outputId": "9420bdd8-4e80-4562-e151-14d11a7585eb"
      },
      "source": [
        "index = 1234\n",
        "print(\"label = {}\".format(train_labels[index]))\n",
        "plt.imshow(train_data[index].reshape(28, 28))\n",
        "plt.colorbar()\n",
        "plt.show()"
      ],
      "execution_count": 24,
      "outputs": [
        {
          "output_type": "stream",
          "text": [
            "label = 7\n"
          ],
          "name": "stdout"
        },
        {
          "output_type": "display_data",
          "data": {
            "image/png": "[encoded data removed]",
            "text/plain": [
              "<Figure size 432x288 with 2 Axes>"
            ]
          },
          "metadata": {
            "tags": []
          }
        }
      ]
    },
    {
      "cell_type": "markdown",
      "metadata": {
        "id": "IPA7Jcdbiqg3",
        "colab_type": "text"
      },
      "source": [
        "# 모델 제작"
      ]
    },
    {
      "cell_type": "code",
      "metadata": {
        "colab_type": "code",
        "id": "6d_QlNBmciJC",
        "colab": {}
      },
      "source": [
        "model = tf.keras.models.Sequential()\n",
        "\n",
        "# Adds a densely-connected layer with 64 units to the model:\n",
        "model.add(layers.Dense(256, activation='relu'))\n",
        "model.add(layers.Dropout(0.5))\n",
        "# Add another:\n",
        "model.add(layers.Dense(128, activation='relu'))\n",
        "model.add(layers.Dense(64, activation='relu'))\n",
        "# Add a softmax layer with 10 output units:\n",
        "model.add(layers.Dense(10, activation='softmax'))"
      ],
      "execution_count": 0,
      "outputs": []
    },
    {
      "cell_type": "code",
      "metadata": {
        "colab_type": "code",
        "id": "Ki9uiBzlcjLR",
        "colab": {
          "base_uri": "https://localhost:8080/",
          "height": 68
        },
        "outputId": "82833294-3530-4e6a-b6d8-5e85f98e7aa4"
      },
      "source": [
        "model.compile(optimizer=tf.train.AdamOptimizer(1e-5),\n",
        "              loss=tf.keras.losses.categorical_crossentropy,\n",
        "              metrics=['categorical_accuracy'])"
      ],
      "execution_count": 26,
      "outputs": [
        {
          "output_type": "stream",
          "text": [
            "Executing op VarHandleOp in device /job:localhost/replica:0/task:0/device:GPU:0\n",
            "Executing op VarIsInitializedOp in device /job:localhost/replica:0/task:0/device:GPU:0\n",
            "Executing op AssignVariableOp in device /job:localhost/replica:0/task:0/device:GPU:0\n"
          ],
          "name": "stdout"
        }
      ]
    },
    {
      "cell_type": "code",
      "metadata": {
        "colab_type": "code",
        "id": "8bp_cfFocpyy",
        "colab": {
          "base_uri": "https://localhost:8080/",
          "height": 425
        },
        "outputId": "d54f9c4d-8b09-4e74-bea7-fc9facb4fec9"
      },
      "source": [
        "# without training, just inference a model in eager execution:\n",
        "predictions = model(train_data[0:1], training=False)\n",
        "print(\"Predictions: \", predictions.numpy())"
      ],
      "execution_count": 27,
      "outputs": [
        {
          "output_type": "stream",
          "text": [
            "Executing op RandomUniform in device /job:localhost/replica:0/task:0/device:GPU:0\n",
            "Executing op Sub in device /job:localhost/replica:0/task:0/device:GPU:0\n",
            "Executing op Mul in device /job:localhost/replica:0/task:0/device:GPU:0\n",
            "Executing op Add in device /job:localhost/replica:0/task:0/device:GPU:0\n",
            "Executing op VarHandleOp in device /job:localhost/replica:0/task:0/device:GPU:0\n",
            "Executing op AssignVariableOp in device /job:localhost/replica:0/task:0/device:GPU:0\n",
            "Executing op Fill in device /job:localhost/replica:0/task:0/device:GPU:0\n",
            "Executing op VarHandleOp in device /job:localhost/replica:0/task:0/device:GPU:0\n",
            "Executing op ReadVariableOp in device /job:localhost/replica:0/task:0/device:GPU:0\n",
            "Executing op MatMul in device /job:localhost/replica:0/task:0/device:GPU:0\n",
            "Executing op BiasAdd in device /job:localhost/replica:0/task:0/device:GPU:0\n",
            "Executing op Relu in device /job:localhost/replica:0/task:0/device:GPU:0\n",
            "Executing op RandomUniform in device /job:localhost/replica:0/task:0/device:GPU:0\n",
            "Executing op VarHandleOp in device /job:localhost/replica:0/task:0/device:GPU:0\n",
            "Executing op VarHandleOp in device /job:localhost/replica:0/task:0/device:GPU:0\n",
            "Executing op RandomUniform in device /job:localhost/replica:0/task:0/device:GPU:0\n",
            "Executing op VarHandleOp in device /job:localhost/replica:0/task:0/device:GPU:0\n",
            "Executing op VarHandleOp in device /job:localhost/replica:0/task:0/device:GPU:0\n",
            "Executing op RandomUniform in device /job:localhost/replica:0/task:0/device:GPU:0\n",
            "Executing op VarHandleOp in device /job:localhost/replica:0/task:0/device:GPU:0\n",
            "Executing op VarHandleOp in device /job:localhost/replica:0/task:0/device:GPU:0\n",
            "Executing op Softmax in device /job:localhost/replica:0/task:0/device:GPU:0\n",
            "Predictions:  [[0.10309876 0.11394785 0.1005427  0.10412551 0.08542869 0.1102368\n",
            "  0.08078437 0.09423468 0.1079455  0.09965512]]\n"
          ],
          "name": "stdout"
        }
      ]
    },
    {
      "cell_type": "code",
      "metadata": {
        "colab_type": "code",
        "id": "CXtssdoLcq9y",
        "colab": {
          "base_uri": "https://localhost:8080/",
          "height": 323
        },
        "outputId": "f06d9512-da1a-4332-8063-c8e44b4c0730"
      },
      "source": [
        "model.summary()"
      ],
      "execution_count": 28,
      "outputs": [
        {
          "output_type": "stream",
          "text": [
            "Model: \"sequential_1\"\n",
            "_________________________________________________________________\n",
            "Layer (type)                 Output Shape              Param #   \n",
            "=================================================================\n",
            "dense_4 (Dense)              multiple                  200960    \n",
            "_________________________________________________________________\n",
            "dropout (Dropout)            multiple                  0         \n",
            "_________________________________________________________________\n",
            "dense_5 (Dense)              multiple                  32896     \n",
            "_________________________________________________________________\n",
            "dense_6 (Dense)              multiple                  8256      \n",
            "_________________________________________________________________\n",
            "dense_7 (Dense)              multiple                  650       \n",
            "=================================================================\n",
            "Total params: 242,762\n",
            "Trainable params: 242,762\n",
            "Non-trainable params: 0\n",
            "_________________________________________________________________\n"
          ],
          "name": "stdout"
        }
      ]
    },
    {
      "cell_type": "markdown",
      "metadata": {
        "id": "jj5Q43mYiqhB",
        "colab_type": "text"
      },
      "source": [
        "# Training"
      ]
    },
    {
      "cell_type": "code",
      "metadata": {
        "colab_type": "code",
        "id": "KYe84eFDcrqh",
        "colab": {
          "base_uri": "https://localhost:8080/",
          "height": 700
        },
        "outputId": "80d3d3b2-83e7-4ec4-8f3a-19f2931465ca"
      },
      "source": [
        "# using `numpy type` data\n",
        "# history = model.fit(train_data, train_labels,\n",
        "#                     batch_size=batch_size, epochs=max_epochs,\n",
        "#                     validation_split=0.1)\n",
        "# using `tf.data.Dataset` \n",
        "history = model.fit(train_dataset, validation_data=valid_dataset, epochs=max_epochs, validation_steps=len(valid_data) // batch_size,\n",
        "                    steps_per_epoch=int(len(train_data) / batch_size))"
      ],
      "execution_count": 29,
      "outputs": [
        {
          "output_type": "stream",
          "text": [
            "Executing op OptimizeDataset in device /job:localhost/replica:0/task:0/device:CPU:0\n",
            "Executing op ModelDataset in device /job:localhost/replica:0/task:0/device:CPU:0\n",
            "Executing op AnonymousIteratorV2 in device /job:localhost/replica:0/task:0/device:CPU:0\n",
            "Executing op MakeIterator in device /job:localhost/replica:0/task:0/device:CPU:0\n",
            "Epoch 1/10\n",
            "Executing op IteratorGetNextSync in device /job:localhost/replica:0/task:0/device:CPU:0\n",
            "Executing op VarHandleOp in device /job:localhost/replica:0/task:0/device:GPU:0\n",
            "Executing op VarHandleOp in device /job:localhost/replica:0/task:0/device:GPU:0\n",
            "Executing op Fill in device /job:localhost/replica:0/task:0/device:GPU:0\n",
            "Executing op VarHandleOp in device /job:localhost/replica:0/task:0/device:GPU:0\n",
            "Executing op VarHandleOp in device /job:localhost/replica:0/task:0/device:GPU:0\n",
            "Executing op VarHandleOp in device /job:localhost/replica:0/task:0/device:GPU:0\n",
            "Executing op VarHandleOp in device /job:localhost/replica:0/task:0/device:GPU:0\n",
            "Executing op VarHandleOp in device /job:localhost/replica:0/task:0/device:GPU:0\n",
            "Executing op VarHandleOp in device /job:localhost/replica:0/task:0/device:GPU:0\n",
            "Executing op VarHandleOp in device /job:localhost/replica:0/task:0/device:GPU:0\n",
            "Executing op VarHandleOp in device /job:localhost/replica:0/task:0/device:GPU:0\n",
            "Executing op __inference_keras_scratch_graph_2110279 in device <unspecified>\n",
            "104/105 [============================>.] - ETA: 0s - loss: 2.2983 - categorical_accuracy: 0.1420Executing op __inference_keras_scratch_graph_2111111 in device <unspecified>\n",
            "Executing op DeleteIterator in device /job:localhost/replica:0/task:0/device:CPU:0\n",
            "105/105 [==============================] - 3s 25ms/step - loss: 2.2980 - categorical_accuracy: 0.1423 - val_loss: 2.2214 - val_categorical_accuracy: 0.2454\n",
            "Epoch 2/10\n",
            "105/105 [==============================] - 2s 17ms/step - loss: 2.2030 - categorical_accuracy: 0.2211 - val_loss: 2.1159 - val_categorical_accuracy: 0.3663\n",
            "Epoch 3/10\n",
            "105/105 [==============================] - 2s 18ms/step - loss: 2.0984 - categorical_accuracy: 0.2991 - val_loss: 1.9800 - val_categorical_accuracy: 0.4398\n",
            "Epoch 4/10\n",
            "105/105 [==============================] - 2s 18ms/step - loss: 1.9636 - categorical_accuracy: 0.3671 - val_loss: 1.8062 - val_categorical_accuracy: 0.5051\n",
            "Epoch 5/10\n",
            "105/105 [==============================] - 2s 18ms/step - loss: 1.8031 - categorical_accuracy: 0.4333 - val_loss: 1.6058 - val_categorical_accuracy: 0.6030\n",
            "Epoch 6/10\n",
            "105/105 [==============================] - 2s 18ms/step - loss: 1.6314 - categorical_accuracy: 0.5029 - val_loss: 1.4046 - val_categorical_accuracy: 0.6996\n",
            "Epoch 7/10\n",
            "105/105 [==============================] - 2s 18ms/step - loss: 1.4617 - categorical_accuracy: 0.5769 - val_loss: 1.2204 - val_categorical_accuracy: 0.7596\n",
            "Epoch 8/10\n",
            "105/105 [==============================] - 2s 18ms/step - loss: 1.3075 - categorical_accuracy: 0.6403 - val_loss: 1.0626 - val_categorical_accuracy: 0.7873\n",
            "Epoch 9/10\n",
            "105/105 [==============================] - 2s 17ms/step - loss: 1.1716 - categorical_accuracy: 0.6771 - val_loss: 0.9324 - val_categorical_accuracy: 0.8052\n",
            "Epoch 10/10\n",
            "105/105 [==============================] - 2s 18ms/step - loss: 1.0618 - categorical_accuracy: 0.7104 - val_loss: 0.8271 - val_categorical_accuracy: 0.8219\n"
          ],
          "name": "stdout"
        }
      ]
    },
    {
      "cell_type": "code",
      "metadata": {
        "colab_type": "code",
        "id": "EY4DM4dhcv65",
        "colab": {
          "base_uri": "https://localhost:8080/",
          "height": 34
        },
        "outputId": "06d7ceeb-839f-40c1-dbf6-2017a8b7f066"
      },
      "source": [
        "history.history.keys()"
      ],
      "execution_count": 30,
      "outputs": [
        {
          "output_type": "execute_result",
          "data": {
            "text/plain": [
              "dict_keys(['loss', 'categorical_accuracy', 'val_loss', 'val_categorical_accuracy'])"
            ]
          },
          "metadata": {
            "tags": []
          },
          "execution_count": 30
        }
      ]
    },
    {
      "cell_type": "code",
      "metadata": {
        "colab_type": "code",
        "id": "22fP3kIVdZua",
        "colab": {
          "base_uri": "https://localhost:8080/",
          "height": 499
        },
        "outputId": "7fbd76de-d667-4a66-b8d1-79342f4b1207"
      },
      "source": [
        "acc = history.history['categorical_accuracy']\n",
        "val_acc = history.history['val_categorical_accuracy']\n",
        "\n",
        "loss = history.history['loss']\n",
        "val_loss = history.history['val_loss']\n",
        "\n",
        "epochs_range = range(max_epochs)\n",
        "\n",
        "plt.figure(figsize=(8, 8))\n",
        "plt.subplot(1, 2, 1)\n",
        "plt.plot(epochs_range, acc, label='Training Accuracy')\n",
        "plt.plot(epochs_range, val_acc, label='Validation Accuracy')\n",
        "plt.legend(loc='lower right')\n",
        "plt.title('Training and Valid Accuracy')\n",
        "\n",
        "plt.subplot(1, 2, 2)\n",
        "plt.plot(epochs_range, loss, label='Training Loss')\n",
        "plt.plot(epochs_range, val_loss, label='Validation Loss')\n",
        "plt.legend(loc='upper right')\n",
        "plt.title('Training and Valid Loss')\n",
        "plt.show()"
      ],
      "execution_count": 32,
      "outputs": [
        {
          "output_type": "display_data",
          "data": {
            "image/png": "[encoded data removed]",
            "text/plain": [
              "<Figure size 576x576 with 2 Axes>"
            ]
          },
          "metadata": {
            "tags": []
          }
        }
      ]
    },
    {
      "cell_type": "markdown",
      "metadata": {
        "id": "oxJOTgXbiqhJ",
        "colab_type": "text"
      },
      "source": [
        "# Evaluation"
      ]
    },
    {
      "cell_type": "code",
      "metadata": {
        "colab_type": "code",
        "id": "n7Cq_HBPdaNS",
        "colab": {
          "base_uri": "https://localhost:8080/",
          "height": 88
        },
        "outputId": "1b1665e1-8ceb-4b63-f92d-8df1a6bb2011"
      },
      "source": [
        "label = tf.one_hot(test_labels, depth=10)\n",
        "results = model.evaluate(test_data, label, batch_size=batch_size)"
      ],
      "execution_count": 33,
      "outputs": [
        {
          "output_type": "stream",
          "text": [
            "Executing op OneHot in device /job:localhost/replica:0/task:0/device:GPU:0\n",
            "  512/10000 [>.............................] - ETA: 0s - loss: 0.8832 - categorical_accuracy: 0.8027Executing op __inference_keras_scratch_graph_2111111 in device <unspecified>\n",
            "10000/10000 [==============================] - 0s 11us/sample - loss: 0.8060 - categorical_accuracy: 0.8299\n"
          ],
          "name": "stdout"
        }
      ]
    },
    {
      "cell_type": "code",
      "metadata": {
        "colab_type": "code",
        "id": "RL0uOeeqdbaC",
        "colab": {
          "base_uri": "https://localhost:8080/",
          "height": 51
        },
        "outputId": "8d9a9812-71c6-4cc2-f767-b5022db9147f"
      },
      "source": [
        "## loss\n",
        "print(\"loss value: {:.3f}\".format(results[0]))\n",
        "# accuracy\n",
        "print(\"accuracy value: {:.4f}%\".format(results[1]*100))"
      ],
      "execution_count": 34,
      "outputs": [
        {
          "output_type": "stream",
          "text": [
            "loss value: 0.806\n",
            "accuracy value: 82.9900%\n"
          ],
          "name": "stdout"
        }
      ]
    },
    {
      "cell_type": "code",
      "metadata": {
        "id": "0yHAijAnotbH",
        "colab_type": "code",
        "colab": {
          "base_uri": "https://localhost:8080/",
          "height": 34
        },
        "outputId": "168b3bdc-6c8b-47e3-cecb-97d6f56c7e7b"
      },
      "source": [
        "test_labels"
      ],
      "execution_count": 35,
      "outputs": [
        {
          "output_type": "execute_result",
          "data": {
            "text/plain": [
              "array([7, 2, 1, ..., 4, 5, 6], dtype=int32)"
            ]
          },
          "metadata": {
            "tags": []
          },
          "execution_count": 35
        }
      ]
    },
    {
      "cell_type": "code",
      "metadata": {
        "colab_type": "code",
        "id": "cLazbelVdcFa",
        "colab": {
          "base_uri": "https://localhost:8080/",
          "height": 661
        },
        "outputId": "25b2b1d3-a1a0-4ced-f222-ce50d97f0a5c"
      },
      "source": [
        "test_batch_size = 16\n",
        "batch_index = np.random.choice(len(test_data), size=test_batch_size, replace=False)\n",
        "\n",
        "batch_xs = test_data[batch_index]\n",
        "batch_ys = test_labels[batch_index]\n",
        "y_pred_ = model(batch_xs, training=False)\n",
        "\n",
        "fig = plt.figure(figsize=(16, 10))\n",
        "for i, (px, py) in enumerate(zip(batch_xs, y_pred_)):\n",
        "  p = fig.add_subplot(4, 8, i+1)\n",
        "  if np.argmax(py) == batch_ys[i]:\n",
        "    p.set_title(\"y_pred: {}\".format(np.argmax(py)), color='blue')\n",
        "  else:\n",
        "    p.set_title(\"y_pred: {}\".format(np.argmax(py)), color='red')\n",
        "  p.imshow(px.reshape(28, 28))\n",
        "  p.axis('off')"
      ],
      "execution_count": 36,
      "outputs": [
        {
          "output_type": "stream",
          "text": [
            "Executing op StridedSlice in device /job:localhost/replica:0/task:0/device:GPU:0\n",
            "Executing op DestroyResourceOp in device /job:localhost/replica:0/task:0/device:GPU:0\n"
          ],
          "name": "stdout"
        },
        {
          "output_type": "stream",
          "text": [
            "Exception ignored in: <bound method _EagerDefinedFunctionDeleter.__del__ of <tensorflow.python.eager.function._EagerDefinedFunctionDeleter object at 0x7fbf0c1d94e0>>\n",
            "Traceback (most recent call last):\n",
            "  File \"/usr/local/lib/python3.6/dist-packages/tensorflow/python/eager/function.py\", line 305, in __del__\n",
            "    context.remove_function(self.name)\n",
            "  File \"/usr/local/lib/python3.6/dist-packages/tensorflow/python/eager/context.py\", line 1663, in remove_function\n",
            "    context().remove_function(name)\n",
            "  File \"/usr/local/lib/python3.6/dist-packages/tensorflow/python/eager/context.py\", line 865, in remove_function\n",
            "    pywrap_tensorflow.TFE_ContextRemoveFunction(self._handle, name)\n",
            "tensorflow.python.framework.errors_impl.InvalidArgumentError: (None, None, \"Tried to remove non-existent function '__inference_keras_scratch_graph_985'.\")\n",
            "Exception ignored in: <bound method _EagerDefinedFunctionDeleter.__del__ of <tensorflow.python.eager.function._EagerDefinedFunctionDeleter object at 0x7fbf0c1735c0>>\n",
            "Traceback (most recent call last):\n",
            "  File \"/usr/local/lib/python3.6/dist-packages/tensorflow/python/eager/function.py\", line 305, in __del__\n",
            "    context.remove_function(self.name)\n",
            "  File \"/usr/local/lib/python3.6/dist-packages/tensorflow/python/eager/context.py\", line 1663, in remove_function\n",
            "    context().remove_function(name)\n",
            "  File \"/usr/local/lib/python3.6/dist-packages/tensorflow/python/eager/context.py\", line 865, in remove_function\n",
            "    pywrap_tensorflow.TFE_ContextRemoveFunction(self._handle, name)\n",
            "tensorflow.python.framework.errors_impl.InvalidArgumentError: (None, None, \"Tried to remove non-existent function '__inference_keras_scratch_graph_1809'.\")\n"
          ],
          "name": "stderr"
        },
        {
          "output_type": "display_data",
          "data": {
            "image/png": "[encoded data removed]",
            "text/plain": [
              "<Figure size 1152x720 with 16 Axes>"
            ]
          },
          "metadata": {
            "tags": []
          }
        }
      ]
    },
    {
      "cell_type": "code",
      "metadata": {
        "colab_type": "code",
        "id": "TFh41S-Hdehy",
        "colab": {}
      },
      "source": [
        ""
      ],
      "execution_count": 0,
      "outputs": []
    }
  ]
}