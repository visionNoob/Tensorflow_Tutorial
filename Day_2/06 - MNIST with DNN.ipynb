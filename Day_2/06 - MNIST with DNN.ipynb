{
  "nbformat": 4,
  "nbformat_minor": 0,
  "metadata": {
    "colab": {
      "name": "06 - MNIST with DNN.ipynb",
      "provenance": [],
      "collapsed_sections": [],
      "include_colab_link": true
    },
    "kernelspec": {
      "name": "python3",
      "display_name": "Python 3"
    },
    "language_info": {
      "codemirror_mode": {
        "name": "ipython",
        "version": 3
      },
      "file_extension": ".py",
      "mimetype": "text/x-python",
      "name": "python",
      "nbconvert_exporter": "python",
      "pygments_lexer": "ipython3",
      "version": "3.6.7"
    },
    "accelerator": "GPU"
  },
  "cells": [
    {
      "cell_type": "markdown",
      "metadata": {
        "id": "view-in-github",
        "colab_type": "text"
      },
      "source": [
        "<a href=\"https://colab.research.google.com/github/visionNoob/Tensorflow_Tutorial/blob/master/Day_2/06%20-%20MNIST%20with%20DNN.ipynb\" target=\"_parent\"><img src=\"https://colab.research.google.com/assets/colab-badge.svg\" alt=\"Open In Colab\"/></a>"
      ]
    },
    {
      "cell_type": "code",
      "metadata": {
        "colab_type": "code",
        "id": "9JutkdoS4X-A",
        "outputId": "8d851713-7912-40ca-cb18-f1be42281afb",
        "colab": {
          "base_uri": "https://localhost:8080/",
          "height": 34
        }
      },
      "source": [
        "import tensorflow as tf\n",
        "from tensorflow.keras import layers\n",
        "\n",
        "import numpy as np\n",
        "import matplotlib.pyplot as plt\n",
        "\n",
        "tf.enable_eager_execution()\n",
        "tf.__version__"
      ],
      "execution_count": 1,
      "outputs": [
        {
          "output_type": "execute_result",
          "data": {
            "text/plain": [
              "'1.14.0'"
            ]
          },
          "metadata": {
            "tags": []
          },
          "execution_count": 1
        }
      ]
    },
    {
      "cell_type": "markdown",
      "metadata": {
        "id": "WlkvjLpvNfac",
        "colab_type": "text"
      },
      "source": [
        "## Dataset 준비"
      ]
    },
    {
      "cell_type": "code",
      "metadata": {
        "colab_type": "code",
        "id": "E16_5FTBccOA",
        "colab": {}
      },
      "source": [
        "# Load training and eval data from tf.keras\n",
        "(train_data, train_labels), (test_data, test_labels) = \\\n",
        "    tf.keras.datasets.mnist.load_data()\n",
        "\n",
        "train_data = train_data / 255.\n",
        "train_data = train_data.reshape(-1, 784)\n",
        "train_data = train_data.astype(np.float32)\n",
        "train_labels = train_labels.astype(np.int32)\n",
        "\n",
        "test_data = test_data / 255.\n",
        "test_data = test_data.reshape(-1, 784)\n",
        "test_data = test_data.astype(np.float32)\n",
        "test_labels = test_labels.astype(np.int32)"
      ],
      "execution_count": 0,
      "outputs": []
    },
    {
      "cell_type": "code",
      "metadata": {
        "id": "8VFrRZz4Nfag",
        "colab_type": "code",
        "colab": {}
      },
      "source": [
        "def one_hot_label(image, label):\n",
        "  label = tf.one_hot(label, depth=10)\n",
        "  return image, label"
      ],
      "execution_count": 0,
      "outputs": []
    },
    {
      "cell_type": "code",
      "metadata": {
        "id": "JQcnSjAFNfai",
        "colab_type": "code",
        "colab": {
          "base_uri": "https://localhost:8080/",
          "height": 51
        },
        "outputId": "57196e78-06cd-4ddd-d6ac-802c99c1dd77"
      },
      "source": [
        "batch_size = 32\n",
        "max_epochs = 10\n",
        "\n",
        "# for train\n",
        "N = len(train_data)\n",
        "train_dataset = tf.data.Dataset.from_tensor_slices((train_data, train_labels))\n",
        "train_dataset = train_dataset.shuffle(buffer_size=10000)\n",
        "train_dataset = train_dataset.map(one_hot_label)\n",
        "train_dataset = train_dataset.repeat().batch(batch_size=batch_size)\n",
        "print(train_dataset)\n",
        "\n",
        "# for test\n",
        "test_dataset = tf.data.Dataset.from_tensor_slices((test_data, test_labels))\n",
        "test_dataset = test_dataset.map(one_hot_label)\n",
        "test_dataset = test_dataset.repeat().batch(batch_size=batch_size)\n",
        "print(test_dataset)"
      ],
      "execution_count": 4,
      "outputs": [
        {
          "output_type": "stream",
          "text": [
            "<DatasetV1Adapter shapes: ((?, 784), (?, 10)), types: (tf.float32, tf.float32)>\n",
            "<DatasetV1Adapter shapes: ((?, 784), (?, 10)), types: (tf.float32, tf.float32)>\n"
          ],
          "name": "stdout"
        }
      ]
    },
    {
      "cell_type": "code",
      "metadata": {
        "colab_type": "code",
        "id": "bSmDlhmrchGa",
        "colab": {
          "base_uri": "https://localhost:8080/",
          "height": 286
        },
        "outputId": "f08efe2b-edc6-467d-ab81-acf7c0f02327"
      },
      "source": [
        "index = 1234\n",
        "print(\"label = {}\".format(train_labels[index]))\n",
        "plt.imshow(train_data[index].reshape(28, 28))\n",
        "plt.colorbar()\n",
        "#plt.gca().grid(False)\n",
        "plt.show()"
      ],
      "execution_count": 5,
      "outputs": [
        {
          "output_type": "stream",
          "text": [
            "label = 3\n"
          ],
          "name": "stdout"
        },
        {
          "output_type": "display_data",
          "data": {
            "image/png": "[encoded data removed]",
            "text/plain": [
              "<Figure size 432x288 with 2 Axes>"
            ]
          },
          "metadata": {
            "tags": []
          }
        }
      ]
    },
    {
      "cell_type": "markdown",
      "metadata": {
        "id": "VVBgsNIENfan",
        "colab_type": "text"
      },
      "source": [
        "# 모델 제작\n",
        "## tf.keras.layers.Dense\n",
        "\n",
        "```python\n",
        " def __init__(self,\n",
        "               units,\n",
        "               activation=None,\n",
        "               use_bias=True,\n",
        "               kernel_initializer='glorot_uniform',\n",
        "               bias_initializer='zeros',\n",
        "               kernel_regularizer=None,\n",
        "               bias_regularizer=None,\n",
        "               activity_regularizer=None,\n",
        "               kernel_constraint=None,\n",
        "               bias_constraint=None,\n",
        "               **kwargs):\n",
        "```"
      ]
    },
    {
      "cell_type": "code",
      "metadata": {
        "colab_type": "code",
        "id": "6d_QlNBmciJC",
        "colab": {}
      },
      "source": [
        "model = tf.keras.models.Sequential()\n",
        "\n",
        "# Adds a densely-connected layer with 64 units to the model:\n",
        "#model.add(layers.Dense(64, activation='relu'))\n",
        "# Add another:\n",
        "#model.add(layers.Dense(64, activation='relu'))\n",
        "# Add a softmax layer with 10 output units:\n",
        "model.add(layers.Dense(10, activation='softmax'))"
      ],
      "execution_count": 0,
      "outputs": []
    },
    {
      "cell_type": "markdown",
      "metadata": {
        "id": "6J0nSVuFNfap",
        "colab_type": "text"
      },
      "source": [
        "# Training\n",
        "## tf.keras.losses.CategoricalCrossentropy()\n",
        "\n",
        "```python\n",
        "cce = tf.keras.losses.CategoricalCrossentropy()\n",
        "loss = cce([[1., 0., 0.], [0., 1., 0.], [0., 0., 1.]],\n",
        "           [[.9, .05, .05], [.5, .89, .6], [.05, .01, .94]])\n",
        "print('Loss: ', loss.numpy())  # Loss: 0.3239\n",
        "```"
      ]
    },
    {
      "cell_type": "code",
      "metadata": {
        "colab_type": "code",
        "id": "Ki9uiBzlcjLR",
        "colab": {}
      },
      "source": [
        "model.compile(optimizer=tf.train.AdamOptimizer(1e-4),\n",
        "              loss=tf.keras.losses.categorical_crossentropy,\n",
        "              metrics=['accuracy'])"
      ],
      "execution_count": 0,
      "outputs": []
    },
    {
      "cell_type": "code",
      "metadata": {
        "colab_type": "code",
        "id": "8bp_cfFocpyy",
        "colab": {
          "base_uri": "https://localhost:8080/",
          "height": 51
        },
        "outputId": "8049df64-0b90-41db-9702-5804d03bc974"
      },
      "source": [
        "# without training, just inference a model in eager execution:\n",
        "predictions = model(train_data[0:1], training=False)\n",
        "print(\"Predictions: \", predictions.numpy())"
      ],
      "execution_count": 8,
      "outputs": [
        {
          "output_type": "stream",
          "text": [
            "Predictions:  [[0.13941784 0.12447739 0.12642463 0.05722393 0.07740736 0.09472535\n",
            "  0.05581464 0.0661886  0.20186612 0.05645409]]\n"
          ],
          "name": "stdout"
        }
      ]
    },
    {
      "cell_type": "code",
      "metadata": {
        "colab_type": "code",
        "id": "CXtssdoLcq9y",
        "colab": {
          "base_uri": "https://localhost:8080/",
          "height": 187
        },
        "outputId": "d9ff43c3-46f9-42ac-e3e2-fdbf7bc98e15"
      },
      "source": [
        "model.summary()"
      ],
      "execution_count": 9,
      "outputs": [
        {
          "output_type": "stream",
          "text": [
            "Model: \"sequential\"\n",
            "_________________________________________________________________\n",
            "Layer (type)                 Output Shape              Param #   \n",
            "=================================================================\n",
            "dense (Dense)                multiple                  7850      \n",
            "=================================================================\n",
            "Total params: 7,850\n",
            "Trainable params: 7,850\n",
            "Non-trainable params: 0\n",
            "_________________________________________________________________\n"
          ],
          "name": "stdout"
        }
      ]
    },
    {
      "cell_type": "code",
      "metadata": {
        "colab_type": "code",
        "id": "KYe84eFDcrqh",
        "colab": {
          "base_uri": "https://localhost:8080/",
          "height": 428
        },
        "outputId": "65646573-ef12-4332-aa44-499bcb76de6d"
      },
      "source": [
        "# using `numpy type` data\n",
        "# history = model.fit(train_data, train_labels,\n",
        "#                     batch_size=batch_size, epochs=max_epochs,\n",
        "#                     validation_split=0.05)\n",
        "# using `tf.data.Dataset`\n",
        "history = model.fit(train_dataset, epochs=max_epochs,\n",
        "                   steps_per_epoch=int(len(train_data) / batch_size))"
      ],
      "execution_count": 10,
      "outputs": [
        {
          "output_type": "stream",
          "text": [
            "Epoch 1/10\n",
            "WARNING:tensorflow:From /usr/local/lib/python3.6/dist-packages/tensorflow/python/ops/math_grad.py:1250: add_dispatch_support.<locals>.wrapper (from tensorflow.python.ops.array_ops) is deprecated and will be removed in a future version.\n",
            "Instructions for updating:\n",
            "Use tf.where in 2.0, which has the same broadcast rule as np.where\n",
            "1875/1875 [==============================] - 9s 5ms/step - loss: 1.1314 - acc: 0.5799\n",
            "Epoch 2/10\n",
            "1875/1875 [==============================] - 9s 5ms/step - loss: 0.5556 - acc: 0.8584\n",
            "Epoch 3/10\n",
            "1875/1875 [==============================] - 9s 5ms/step - loss: 0.4403 - acc: 0.8842\n",
            "Epoch 4/10\n",
            "1875/1875 [==============================] - 9s 5ms/step - loss: 0.3901 - acc: 0.8941\n",
            "Epoch 5/10\n",
            "1875/1875 [==============================] - 9s 5ms/step - loss: 0.3622 - acc: 0.8992\n",
            "Epoch 6/10\n",
            "1875/1875 [==============================] - 10s 5ms/step - loss: 0.3443 - acc: 0.9057\n",
            "Epoch 7/10\n",
            "1875/1875 [==============================] - 9s 5ms/step - loss: 0.3316 - acc: 0.9082\n",
            "Epoch 8/10\n",
            "1875/1875 [==============================] - 9s 5ms/step - loss: 0.3221 - acc: 0.9116\n",
            "Epoch 9/10\n",
            "1875/1875 [==============================] - 9s 5ms/step - loss: 0.3146 - acc: 0.9138\n",
            "Epoch 10/10\n",
            "1875/1875 [==============================] - 9s 5ms/step - loss: 0.3086 - acc: 0.9143\n"
          ],
          "name": "stdout"
        }
      ]
    },
    {
      "cell_type": "code",
      "metadata": {
        "colab_type": "code",
        "id": "EY4DM4dhcv65",
        "colab": {
          "base_uri": "https://localhost:8080/",
          "height": 34
        },
        "outputId": "e89a8d46-cc97-4949-873c-391188c81a78"
      },
      "source": [
        "history.history.keys()"
      ],
      "execution_count": 11,
      "outputs": [
        {
          "output_type": "execute_result",
          "data": {
            "text/plain": [
              "dict_keys(['loss', 'acc'])"
            ]
          },
          "metadata": {
            "tags": []
          },
          "execution_count": 11
        }
      ]
    },
    {
      "cell_type": "code",
      "metadata": {
        "colab_type": "code",
        "id": "22fP3kIVdZua",
        "colab": {
          "base_uri": "https://localhost:8080/",
          "height": 499
        },
        "outputId": "020d9da0-36ff-4e52-d19c-66f46011711c"
      },
      "source": [
        "acc = history.history['acc']\n",
        "\n",
        "loss = history.history['loss']\n",
        "\n",
        "epochs_range = range(max_epochs)\n",
        "\n",
        "plt.figure(figsize=(8, 8))\n",
        "plt.subplot(1, 2, 1)\n",
        "plt.plot(epochs_range, acc, label='Training Accuracy')\n",
        "plt.legend(loc='lower right')\n",
        "plt.title('Training and Accuracy')\n",
        "\n",
        "plt.subplot(1, 2, 2)\n",
        "plt.plot(epochs_range, loss, label='Training Loss')\n",
        "plt.legend(loc='upper right')\n",
        "plt.title('Training and Loss')\n",
        "plt.show()"
      ],
      "execution_count": 12,
      "outputs": [
        {
          "output_type": "display_data",
          "data": {
            "image/png": "[encoded data removed]",
            "text/plain": [
              "<Figure size 576x576 with 2 Axes>"
            ]
          },
          "metadata": {
            "tags": []
          }
        }
      ]
    },
    {
      "cell_type": "code",
      "metadata": {
        "colab_type": "code",
        "id": "n7Cq_HBPdaNS",
        "colab": {
          "base_uri": "https://localhost:8080/",
          "height": 34
        },
        "outputId": "3cbb5634-b4d5-4293-ca76-15e21893c523"
      },
      "source": [
        "results = model.evaluate(test_dataset, steps=int(len(train_data) / batch_size))"
      ],
      "execution_count": 13,
      "outputs": [
        {
          "output_type": "stream",
          "text": [
            "1875/1875 [==============================] - 7s 4ms/step - loss: 0.2973 - acc: 0.9174\n"
          ],
          "name": "stdout"
        }
      ]
    },
    {
      "cell_type": "code",
      "metadata": {
        "colab_type": "code",
        "id": "RL0uOeeqdbaC",
        "colab": {
          "base_uri": "https://localhost:8080/",
          "height": 51
        },
        "outputId": "ab1bdeac-8481-4964-f340-bf33bc640d18"
      },
      "source": [
        "# loss\n",
        "print(\"loss value: {:.3f}\".format(results[0]))\n",
        "# accuracy\n",
        "print(\"accuracy value: {:.4f}%\".format(results[1]*100))"
      ],
      "execution_count": 14,
      "outputs": [
        {
          "output_type": "stream",
          "text": [
            "loss value: 0.297\n",
            "accuracy value: 91.7400%\n"
          ],
          "name": "stdout"
        }
      ]
    },
    {
      "cell_type": "code",
      "metadata": {
        "colab_type": "code",
        "id": "cLazbelVdcFa",
        "colab": {
          "base_uri": "https://localhost:8080/",
          "height": 301
        },
        "outputId": "30d5852f-5914-4fcf-cf47-208fd486ee58"
      },
      "source": [
        "np.random.seed(42)\n",
        "test_batch_size = 16\n",
        "batch_index = np.random.choice(len(test_data), size=test_batch_size, replace=False)\n",
        "\n",
        "batch_xs = test_data[batch_index]\n",
        "batch_ys = test_labels[batch_index]\n",
        "y_pred_ = model(batch_xs, training=False)\n",
        "\n",
        "fig = plt.figure(figsize=(16, 10))\n",
        "for i, (px, py) in enumerate(zip(batch_xs, y_pred_)):\n",
        "  p = fig.add_subplot(4, 8, i+1)\n",
        "  if np.argmax(py) == batch_ys[i]:\n",
        "    p.set_title(\"y_pred: {}\".format(np.argmax(py)), color='blue')\n",
        "  else:\n",
        "    p.set_title(\"y_pred: {}\".format(np.argmax(py)), color='red')\n",
        "  p.imshow(px.reshape(28, 28))\n",
        "  p.axis('off')"
      ],
      "execution_count": 15,
      "outputs": [
        {
          "output_type": "display_data",
          "data": {
            "image/png": "[encoded data removed]",
            "text/plain": [
              "<Figure size 1152x720 with 16 Axes>"
            ]
          },
          "metadata": {
            "tags": []
          }
        }
      ]
    },
    {
      "cell_type": "code",
      "metadata": {
        "colab_type": "code",
        "id": "TFh41S-Hdehy",
        "colab": {}
      },
      "source": [
        ""
      ],
      "execution_count": 0,
      "outputs": []
    }
  ]
}