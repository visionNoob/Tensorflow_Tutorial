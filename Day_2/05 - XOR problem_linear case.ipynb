{
  "nbformat": 4,
  "nbformat_minor": 0,
  "metadata": {
    "colab": {
      "name": "05 - XOR problem_linear case.ipynb",
      "provenance": [],
      "collapsed_sections": [],
      "include_colab_link": true
    },
    "kernelspec": {
      "display_name": "Python 3",
      "language": "python",
      "name": "python3"
    },
    "language_info": {
      "codemirror_mode": {
        "name": "ipython",
        "version": 3
      },
      "file_extension": ".py",
      "mimetype": "text/x-python",
      "name": "python",
      "nbconvert_exporter": "python",
      "pygments_lexer": "ipython3",
      "version": "3.6.9"
    }
  },
  "cells": [
    {
      "cell_type": "markdown",
      "metadata": {
        "id": "view-in-github",
        "colab_type": "text"
      },
      "source": [
        "<a href=\"https://colab.research.google.com/github/visionNoob/Tensorflow_Tutorial/blob/master/Day_2/05%20-%20XOR%20problem_linear%20case.ipynb\" target=\"_parent\"><img src=\"https://colab.research.google.com/assets/colab-badge.svg\" alt=\"Open In Colab\"/></a>"
      ]
    },
    {
      "cell_type": "code",
      "metadata": {
        "colab_type": "code",
        "id": "9JutkdoS4X-A",
        "outputId": "92c38a97-a97c-44e6-88b9-d2fa53c26527",
        "scrolled": true,
        "colab": {
          "base_uri": "https://localhost:8080/",
          "height": 34
        }
      },
      "source": [
        "import tensorflow as tf\n",
        "import numpy as np\n",
        "import matplotlib.pyplot as plt\n",
        "\n",
        "tf.enable_eager_execution()\n",
        "tf.debugging.set_log_device_placement(True)\n",
        "tf.set_random_seed(42)\n",
        "np.random.seed(42)\n",
        "tf.__version__"
      ],
      "execution_count": 0,
      "outputs": [
        {
          "output_type": "execute_result",
          "data": {
            "text/plain": [
              "'1.14.0'"
            ]
          },
          "metadata": {
            "tags": []
          },
          "execution_count": 1
        }
      ]
    },
    {
      "cell_type": "markdown",
      "metadata": {
        "colab_type": "text",
        "id": "CMX1E1gY2GJy"
      },
      "source": [
        "# XOR Problem\n",
        "\n",
        "* XOR 로 표시되는 정보를 구분해보자"
      ]
    },
    {
      "cell_type": "code",
      "metadata": {
        "colab_type": "code",
        "id": "NCbBvoYl2CKv",
        "colab": {}
      },
      "source": [
        "x_data = [[0., 0.],\n",
        "          [0., 1.],\n",
        "          [1., 0.],\n",
        "          [1., 1.]]"
      ],
      "execution_count": 0,
      "outputs": []
    },
    {
      "cell_type": "code",
      "metadata": {
        "colab_type": "code",
        "outputId": "f5941339-d8e6-438c-910b-74914ff46173",
        "id": "v8WPLX2M2Pwd",
        "colab": {
          "base_uri": "https://localhost:8080/",
          "height": 283
        }
      },
      "source": [
        "y_data = [[0.],\n",
        "          [1.],\n",
        "          [1.],\n",
        "          [0.]]\n",
        "\n",
        "plt.scatter(x_data[0][0],x_data[0][1], c='red' , marker='^')\n",
        "plt.scatter(x_data[3][0],x_data[3][1], c='red' , marker='^')\n",
        "plt.scatter(x_data[1][0],x_data[1][1], c='blue' , marker='^')\n",
        "plt.scatter(x_data[2][0],x_data[2][1], c='blue' , marker='^')\n",
        "\n",
        "plt.xlabel(\"x1\")\n",
        "plt.ylabel(\"x2\")\n",
        "plt.show()"
      ],
      "execution_count": 0,
      "outputs": [
        {
          "output_type": "display_data",
          "data": {
            "image/png": "[encoded data removed]",
            "text/plain": [
              "<Figure size 432x288 with 1 Axes>"
            ]
          },
          "metadata": {
            "tags": []
          }
        }
      ]
    },
    {
      "cell_type": "markdown",
      "metadata": {
        "colab_type": "text",
        "id": "QlyhDb1a2RZN"
      },
      "source": [
        "# Dataset 준비\n",
        "\n"
      ]
    },
    {
      "cell_type": "code",
      "metadata": {
        "colab_type": "code",
        "id": "I4Inx8z-2Edf",
        "outputId": "ab1a0f68-2cf7-47a6-9673-8b277e2536ef",
        "colab": {
          "base_uri": "https://localhost:8080/",
          "height": 51
        }
      },
      "source": [
        "dataset = tf.data.Dataset.from_tensor_slices((x_data, y_data)).batch(len(x_data))"
      ],
      "execution_count": 0,
      "outputs": [
        {
          "output_type": "stream",
          "text": [
            "Executing op TensorSliceDataset in device /job:localhost/replica:0/task:0/device:CPU:0\n",
            "Executing op BatchDatasetV2 in device /job:localhost/replica:0/task:0/device:CPU:0\n"
          ],
          "name": "stdout"
        }
      ]
    },
    {
      "cell_type": "markdown",
      "metadata": {
        "colab_type": "text",
        "id": "-_m-9SeSWufJ"
      },
      "source": [
        "# Multi-layer perceptron"
      ]
    },
    {
      "cell_type": "code",
      "metadata": {
        "colab_type": "code",
        "id": "fTdFrE40Dx1W",
        "outputId": "adef6b96-f770-44ff-af96-3db418c08568",
        "colab": {
          "base_uri": "https://localhost:8080/",
          "height": 289
        }
      },
      "source": [
        "W1 = tf.Variable(tf.random_uniform([2, 5], -1.0, 1.0), name='weight1')\n",
        "W2 = tf.Variable(tf.random_uniform([5, 4], -1.0, 1.0), name='weight2')\n",
        "W3 = tf.Variable(tf.random_uniform([4, 1], -1.0, 1.0), name='weight3')\n",
        "\n",
        "b1 = tf.Variable(tf.zeros([5]), name='bias1')\n",
        "b2 = tf.Variable(tf.zeros([4]), name='bias2')\n",
        "b3 = tf.Variable(tf.zeros([1]), name='bias3')"
      ],
      "execution_count": 0,
      "outputs": [
        {
          "output_type": "stream",
          "text": [
            "Executing op RandomUniform in device /job:localhost/replica:0/task:0/device:CPU:0\n",
            "Executing op Sub in device /job:localhost/replica:0/task:0/device:CPU:0\n",
            "Executing op Mul in device /job:localhost/replica:0/task:0/device:CPU:0\n",
            "Executing op Add in device /job:localhost/replica:0/task:0/device:CPU:0\n",
            "Executing op VarHandleOp in device /job:localhost/replica:0/task:0/device:CPU:0\n",
            "Executing op VarIsInitializedOp in device /job:localhost/replica:0/task:0/device:CPU:0\n",
            "Executing op AssignVariableOp in device /job:localhost/replica:0/task:0/device:CPU:0\n",
            "Executing op RandomUniform in device /job:localhost/replica:0/task:0/device:CPU:0\n",
            "Executing op VarHandleOp in device /job:localhost/replica:0/task:0/device:CPU:0\n",
            "Executing op RandomUniform in device /job:localhost/replica:0/task:0/device:CPU:0\n",
            "Executing op VarHandleOp in device /job:localhost/replica:0/task:0/device:CPU:0\n",
            "Executing op Fill in device /job:localhost/replica:0/task:0/device:CPU:0\n",
            "Executing op VarHandleOp in device /job:localhost/replica:0/task:0/device:CPU:0\n",
            "Executing op VarHandleOp in device /job:localhost/replica:0/task:0/device:CPU:0\n",
            "Executing op Reshape in device /job:localhost/replica:0/task:0/device:CPU:0\n",
            "Executing op VarHandleOp in device /job:localhost/replica:0/task:0/device:CPU:0\n"
          ],
          "name": "stdout"
        }
      ]
    },
    {
      "cell_type": "markdown",
      "metadata": {
        "colab_type": "text",
        "id": "8_Nfv3IsWzeS"
      },
      "source": [
        "## Layers 구성"
      ]
    },
    {
      "cell_type": "code",
      "metadata": {
        "colab_type": "code",
        "id": "Q4TzyRhLDy4r",
        "colab": {}
      },
      "source": [
        "def neural_net(features):\n",
        "    layer1 = tf.sigmoid(tf.matmul(features, W1) + b1)\n",
        "    layer2 = tf.sigmoid(tf.matmul(layer1, W2) + b2)\n",
        "    hypothesis = tf.sigmoid(tf.matmul(layer2, W3) + b3)\n",
        "    \n",
        "    return hypothesis\n"
      ],
      "execution_count": 0,
      "outputs": []
    },
    {
      "cell_type": "code",
      "metadata": {
        "id": "xVZXfF3xV7mu",
        "colab_type": "code",
        "outputId": "6f494673-3107-4fab-9a4f-20c482809b6f",
        "colab": {
          "base_uri": "https://localhost:8080/",
          "height": 51
        }
      },
      "source": [
        "W_linear_1 = tf.Variable(tf.random_uniform([2, 1], -1.0, 1.0), name='weight1')\n",
        "b_linear_1 = tf.Variable(tf.zeros([1]), name='bias1')\n",
        "\n",
        "def linear_model(features):\n",
        "    hypothesis = tf.sigmoid(tf.matmul(features, W_linear_1) + b_linear_1)\n",
        "    return hypothesis"
      ],
      "execution_count": 0,
      "outputs": [
        {
          "output_type": "stream",
          "text": [
            "Executing op RandomUniform in device /job:localhost/replica:0/task:0/device:CPU:0\n",
            "Executing op VarHandleOp in device /job:localhost/replica:0/task:0/device:CPU:0\n"
          ],
          "name": "stdout"
        }
      ]
    },
    {
      "cell_type": "markdown",
      "metadata": {
        "colab_type": "text",
        "id": "pljhbXSIW2A0"
      },
      "source": [
        "## Loss Function"
      ]
    },
    {
      "cell_type": "code",
      "metadata": {
        "colab_type": "code",
        "id": "w6Ba-vn6GK5P",
        "colab": {}
      },
      "source": [
        "def loss_fn(hypothesis, labels):\n",
        "    cost = -tf.reduce_mean(labels * tf.log(hypothesis) + (1 - labels) * tf.log(1 - hypothesis))\n",
        "    return cost\n",
        "\n",
        "optimizer = tf.train.GradientDescentOptimizer(learning_rate=0.1)"
      ],
      "execution_count": 0,
      "outputs": []
    },
    {
      "cell_type": "code",
      "metadata": {
        "colab_type": "code",
        "id": "7IexpBSeGnd6",
        "colab": {}
      },
      "source": [
        "def grad(hypothesis, labels):\n",
        "    with tf.GradientTape() as tape:\n",
        "        loss_value = loss_fn(linear_model(features),labels)\n",
        "    return tape.gradient(loss_value, [W1, W2, W3, b1, b2, b3])\n"
      ],
      "execution_count": 0,
      "outputs": []
    },
    {
      "cell_type": "code",
      "metadata": {
        "id": "xNZBnLVsW8HE",
        "colab_type": "code",
        "colab": {}
      },
      "source": [
        "def grad_linear(hypothesis, labels):\n",
        "    with tf.GradientTape() as tape:\n",
        "        loss_value = loss_fn(linear_model(features),labels)\n",
        "    return tape.gradient(loss_value, [W_linear_1, b_linear_1])"
      ],
      "execution_count": 0,
      "outputs": []
    },
    {
      "cell_type": "markdown",
      "metadata": {
        "id": "p1SOZXl72Pwv",
        "colab_type": "text"
      },
      "source": [
        "## Training\n"
      ]
    },
    {
      "cell_type": "code",
      "metadata": {
        "colab_type": "code",
        "id": "V0Orlau1GfFA",
        "outputId": "fa11f36b-0fcc-494e-da44-40fb7ba6434f",
        "colab": {
          "base_uri": "https://localhost:8080/",
          "height": 408
        }
      },
      "source": [
        "EPOCHS = 10000\n",
        "\n",
        "for step in range(EPOCHS):\n",
        "    for features, labels  in dataset:\n",
        "        #grads = grad(neural_net(features), labels)\n",
        "        grads = grad_linear(linear_model(features), labels)\n",
        "        optimizer.apply_gradients(grads_and_vars=zip(grads,[W_linear_1, b_linear_1]))\n",
        "        if step % 1000 == 0:\n",
        "            #print(\"Iter: {}, Loss: {:.4f}\".format(step, loss_fn(neural_net(features),labels)))\n",
        "            print(\"Iter: {}, Loss: {:.4f}\".format(step, loss_fn(linear_model(features),labels)))\n"
      ],
      "execution_count": 0,
      "outputs": [
        {
          "output_type": "stream",
          "text": [
            "Executing op Log in device /job:localhost/replica:0/task:0/device:CPU:0\n",
            "Executing op Mean in device /job:localhost/replica:0/task:0/device:CPU:0\n",
            "Executing op Neg in device /job:localhost/replica:0/task:0/device:CPU:0\n",
            "Executing op Tile in device /job:localhost/replica:0/task:0/device:CPU:0\n",
            "Executing op RealDiv in device /job:localhost/replica:0/task:0/device:CPU:0\n",
            "Executing op Reciprocal in device /job:localhost/replica:0/task:0/device:CPU:0\n",
            "Executing op Shape in device /job:localhost/replica:0/task:0/device:CPU:0\n",
            "Executing op BroadcastGradientArgs in device /job:localhost/replica:0/task:0/device:CPU:0\n",
            "Executing op Sum in device /job:localhost/replica:0/task:0/device:CPU:0\n",
            "Executing op AddN in device /job:localhost/replica:0/task:0/device:CPU:0\n",
            "Executing op SigmoidGrad in device /job:localhost/replica:0/task:0/device:CPU:0\n",
            "Executing op MatMul in device /job:localhost/replica:0/task:0/device:CPU:0\n",
            "Executing op ResourceApplyGradientDescent in device /job:localhost/replica:0/task:0/device:CPU:0\n",
            "Iter: 0, Loss: 0.7041\n",
            "Iter: 1000, Loss: 0.6931\n",
            "Iter: 2000, Loss: 0.6931\n",
            "Iter: 3000, Loss: 0.6931\n",
            "Iter: 4000, Loss: 0.6931\n",
            "Iter: 5000, Loss: 0.6931\n",
            "Iter: 6000, Loss: 0.6931\n",
            "Iter: 7000, Loss: 0.6931\n",
            "Iter: 8000, Loss: 0.6931\n",
            "Iter: 9000, Loss: 0.6931\n"
          ],
          "name": "stdout"
        }
      ]
    },
    {
      "cell_type": "code",
      "metadata": {
        "colab_type": "code",
        "id": "9CHtdCaFGU7z",
        "colab": {}
      },
      "source": [
        "def accuracy_fn(hypothesis, labels):\n",
        "    predicted = tf.cast(hypothesis > 0.5, dtype=tf.float32)\n",
        "    accuracy = tf.reduce_mean(tf.cast(tf.equal(predicted, labels), dtype=tf.float32))\n",
        "    return accuracy"
      ],
      "execution_count": 0,
      "outputs": []
    },
    {
      "cell_type": "code",
      "metadata": {
        "colab_type": "code",
        "id": "gR4Sz2doGeEr",
        "outputId": "b23dd882-400c-41a8-ce78-9fd66437a9c1",
        "colab": {
          "base_uri": "https://localhost:8080/",
          "height": 85
        }
      },
      "source": [
        "test_acc = accuracy_fn(neural_net(x_data),y_data)\n",
        "print(\"Testset Accuracy: {:.4f}\".format(test_acc))"
      ],
      "execution_count": 0,
      "outputs": [
        {
          "output_type": "stream",
          "text": [
            "Executing op Greater in device /job:localhost/replica:0/task:0/device:CPU:0\n",
            "Executing op Cast in device /job:localhost/replica:0/task:0/device:CPU:0\n",
            "Executing op Equal in device /job:localhost/replica:0/task:0/device:CPU:0\n",
            "Testset Accuracy: 1.0000\n"
          ],
          "name": "stdout"
        }
      ]
    },
    {
      "cell_type": "code",
      "metadata": {
        "colab_type": "code",
        "id": "hLLgI98kGy0m",
        "outputId": "35607811-e86f-4215-c170-d527877504b8",
        "colab": {
          "base_uri": "https://localhost:8080/",
          "height": 85
        }
      },
      "source": [
        "test_acc = accuracy_fn(linear_model(x_data),y_data)\n",
        "print(\"Testset Accuracy: {:.4f}\".format(test_acc))"
      ],
      "execution_count": 0,
      "outputs": [
        {
          "output_type": "stream",
          "text": [
            "Executing op Greater in device /job:localhost/replica:0/task:0/device:CPU:0\n",
            "Executing op Cast in device /job:localhost/replica:0/task:0/device:CPU:0\n",
            "Executing op Equal in device /job:localhost/replica:0/task:0/device:CPU:0\n",
            "Testset Accuracy: 0.5000\n"
          ],
          "name": "stdout"
        }
      ]
    },
    {
      "cell_type": "code",
      "metadata": {
        "id": "_Ii8LOO1aD6l",
        "colab_type": "code",
        "colab": {}
      },
      "source": [
        ""
      ],
      "execution_count": 0,
      "outputs": []
    }
  ]
}